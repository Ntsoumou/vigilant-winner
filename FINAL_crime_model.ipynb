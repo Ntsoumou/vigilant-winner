{
  "cells": [
    {
      "cell_type": "markdown",
      "metadata": {
        "id": "view-in-github",
        "colab_type": "text"
      },
      "source": [
        "<a href=\"https://colab.research.google.com/github/Ntsoumou/vigilant-winner/blob/main/crime_model.ipynb\" target=\"_parent\"><img src=\"https://colab.research.google.com/assets/colab-badge.svg\" alt=\"Open In Colab\"/></a>"
      ]
    },
    {
      "cell_type": "code",
      "execution_count": null,
      "metadata": {
        "id": "15QZJMJM4MqM"
      },
      "outputs": [],
      "source": [
        "# Author: Ntsoumou, Manuel Davy\n",
        "# License: Attribution required\n",
        "# Data Source: https://www.baltimorepolice.org/crime-stats/open-data"
      ]
    },
    {
      "cell_type": "code",
      "execution_count": 1,
      "metadata": {
        "id": "GL-Z9Rtc4Rby",
        "colab": {
          "base_uri": "https://localhost:8080/"
        },
        "outputId": "d29f1847-5754-4eb1-f364-803df60804aa"
      },
      "outputs": [
        {
          "output_type": "stream",
          "name": "stderr",
          "text": [
            "/usr/local/lib/python3.8/dist-packages/IPython/core/interactiveshell.py:3326: DtypeWarning: Columns (9,13) have mixed types.Specify dtype option on import or set low_memory=False.\n",
            "  exec(code_obj, self.user_global_ns, self.user_ns)\n"
          ]
        }
      ],
      "source": [
        "# Import the pandas library\n",
        "import pandas as pd\n",
        "\n",
        "# Read the CSV file into a Pandas dataframe\n",
        "df = pd.read_csv('/content/drive/MyDrive/Colab Notebooks/crime-baltimore.csv')"
      ]
    },
    {
      "cell_type": "code",
      "execution_count": 2,
      "metadata": {
        "colab": {
          "base_uri": "https://localhost:8080/"
        },
        "id": "OWhG8aQi5C-D",
        "outputId": "31a1e3a6-d1be-43b0-cc29-654f4d2f93d9"
      },
      "outputs": [
        {
          "output_type": "stream",
          "name": "stdout",
          "text": [
            "the shape of untouched data from Baltimore police:  (544414, 23)\n",
            "the total number of elements of untouched data from Baltimore police:  12521522\n"
          ]
        }
      ],
      "source": [
        "# View the shape of the DataFrame\n",
        "print(\"the shape of untouched data from Baltimore police: \", df.shape)\n",
        "\n",
        "# View the total number of elements in the DataFrame\n",
        "print(\"the total number of elements of untouched data from Baltimore police: \", df.size)"
      ]
    },
    {
      "cell_type": "markdown",
      "metadata": {
        "id": "2G5YOFfN5Dch"
      },
      "source": [
        "Feature Selection"
      ]
    },
    {
      "cell_type": "code",
      "execution_count": 3,
      "metadata": {
        "id": "jgxM4IeU4w5L"
      },
      "outputs": [],
      "source": [
        "# create a new dataframe\n",
        "df_cleaned = pd.DataFrame()\n",
        "\n",
        "#predictor (y)\n",
        "df_cleaned['Description'] = df['Description']\n",
        "\n",
        "#features (X)\n",
        "df_cleaned['District'] = df['District']\n",
        "df_cleaned['CrimeDateTime'] = df['CrimeDateTime'] \n",
        "df_cleaned['Inside_Outside'] = df['Inside_Outside'] \n",
        "df_cleaned['Weapon'] = df['Weapon'].fillna('no_weapon') \n",
        "df_cleaned['Gender'] = df['Gender']\n",
        "df_cleaned['Race'] = df['Race']\n",
        "df_cleaned['Neighborhood'] = df['Neighborhood']\n",
        "df_cleaned['Latitude'] = df['Latitude']\n",
        "df_cleaned['Longitude'] = df['Longitude']\n",
        "df_cleaned['Age'] = df['Age']\n",
        "\n",
        "# remove rows with empty cells\n",
        "df_cleaned.dropna(inplace=True)\n",
        "\n",
        "#re-index the dataframe\n",
        "df_cleaned.reset_index(drop=True, inplace=True)\n"
      ]
    },
    {
      "cell_type": "code",
      "execution_count": 5,
      "metadata": {
        "colab": {
          "base_uri": "https://localhost:8080/"
        },
        "id": "Jjm6P1Bt6QFS",
        "outputId": "affeeb83-fc61-4d6d-dfa7-6207b51e2ba5"
      },
      "outputs": [
        {
          "output_type": "stream",
          "name": "stdout",
          "text": [
            "the shape of the feature selected DataFrame:  (366451, 11)\n",
            "the total number of elements in the feature selected DataFrame:  4030961\n"
          ]
        }
      ],
      "source": [
        "# View the shape of the feature selected DataFrame\n",
        "print(\"the shape of the feature selected DataFrame: \", df_cleaned.shape)\n",
        "\n",
        "# View the total number of elements in the feature selected DataFrame\n",
        "print(\"the total number of elements in the feature selected DataFrame: \", df_cleaned.size)"
      ]
    },
    {
      "cell_type": "markdown",
      "metadata": {
        "id": "V0MvlHUT7C8m"
      },
      "source": [
        "Cleaning ['Description']"
      ]
    },
    {
      "cell_type": "code",
      "execution_count": 6,
      "metadata": {
        "id": "Q1dSrwUN6lCq"
      },
      "outputs": [],
      "source": [
        "# Import numpy library\n",
        "import numpy as np\n",
        "\n",
        "# Create a list of values to be checked\n",
        "values = ['AGG. ASSAULT', 'ROBBERY', 'SHOOTING', \n",
        "          'COMMON ASSAULT', 'HOMICIDE', 'RAPE', \n",
        "          'ROBBERY - CARJACKING']\n",
        "\n",
        "# Use the `isin()` method to check which rows \n",
        "# in the 'Description' column contain one of the values from the `values` list\n",
        "mask = df_cleaned['Description'].isin(values)\n",
        "\n",
        "# Use the `where()` function to create the 'nv_v' column\n",
        "df_cleaned['nv_v'] = np.where(mask, 'violent', 'non_violent')\n"
      ]
    },
    {
      "cell_type": "markdown",
      "metadata": {
        "id": "zQ113_2w7ikR"
      },
      "source": [
        "Cleaning ['CrimeDateTime']"
      ]
    },
    {
      "cell_type": "code",
      "execution_count": 7,
      "metadata": {
        "id": "4ovD55xU7a4i",
        "colab": {
          "base_uri": "https://localhost:8080/"
        },
        "outputId": "8e6f064f-538b-4e79-a90a-644951cea910"
      },
      "outputs": [
        {
          "output_type": "stream",
          "name": "stderr",
          "text": [
            "<ipython-input-7-aaddb9c4eac9>:11: SettingWithCopyWarning: \n",
            "A value is trying to be set on a copy of a slice from a DataFrame.\n",
            "Try using .loc[row_indexer,col_indexer] = value instead\n",
            "\n",
            "See the caveats in the documentation: https://pandas.pydata.org/pandas-docs/stable/user_guide/indexing.html#returning-a-view-versus-a-copy\n",
            "  df_cleaned['CrimeDateTime'] = pd.to_datetime(\n",
            "<ipython-input-7-aaddb9c4eac9>:21: SettingWithCopyWarning: \n",
            "A value is trying to be set on a copy of a slice from a DataFrame.\n",
            "Try using .loc[row_indexer,col_indexer] = value instead\n",
            "\n",
            "See the caveats in the documentation: https://pandas.pydata.org/pandas-docs/stable/user_guide/indexing.html#returning-a-view-versus-a-copy\n",
            "  df_cleaned['time_of_day'] = pd.cut(df_cleaned['CrimeDateTime'].dt.hour,\n"
          ]
        }
      ],
      "source": [
        "#time_of_day\n",
        "\n",
        "# convert the column to datetime type, coerce any values that cannot be parsed to NaT\n",
        "df_cleaned['CrimeDateTime'] = pd.to_datetime(df_cleaned['CrimeDateTime'], \n",
        "                                             errors='coerce')\n",
        "\n",
        "# remove rows with NaT values from the DataFrame\n",
        "df_cleaned = df_cleaned.dropna()\n",
        "\n",
        "# convert the column to datetime type\n",
        "df_cleaned['CrimeDateTime'] = pd.to_datetime(\n",
        "    df_cleaned['CrimeDateTime'])\n",
        "\n",
        "# create bins for morning, afternoon, evening, and night\n",
        "bins = [0, 12, 18, 24]\n",
        "\n",
        "# create labels for the bins\n",
        "labels = ['morning', 'afternoon', 'evening']\n",
        "\n",
        "# use pd.cut() to bin the rows into the specified time intervals\n",
        "df_cleaned['time_of_day'] = pd.cut(df_cleaned['CrimeDateTime'].dt.hour, \n",
        "                                   bins=bins, labels=labels)"
      ]
    },
    {
      "cell_type": "code",
      "execution_count": 8,
      "metadata": {
        "id": "PYo2XDpS71iQ"
      },
      "outputs": [],
      "source": [
        "# day_of_week\n",
        "\n",
        "# create bins for each day of the week\n",
        "bins = [-1, 0, 1, 2, 3, 4, 5, 6]\n",
        "\n",
        "# create labels for the bins\n",
        "labels = ['Monday', 'Tuesday', 'Wednesday', 'Thursday', 'Friday', 'Saturday', 'Sunday']\n",
        "\n",
        "# use pd.cut() to bin the rows into the specified day of the week\n",
        "df_cleaned['day_of_week'] = pd.cut(df_cleaned['CrimeDateTime'].dt.dayofweek, bins=bins, labels=labels)\n"
      ]
    },
    {
      "cell_type": "code",
      "execution_count": 9,
      "metadata": {
        "id": "X7g9YZBK8Iua"
      },
      "outputs": [],
      "source": [
        "#month_of_year\n",
        "\n",
        "# create bins for each month of the year\n",
        "bins = [0, 1, 2, 3, 4, 5, 6, 7, 8, 9, 10, 11, 12]\n",
        "\n",
        "# create labels for the bins\n",
        "labels = ['January', 'February', 'March', 'April', 'May', 'June', 'July', 'August', 'September', 'October', 'November', 'December']\n",
        "\n",
        "# use pd.cut() to bin the rows into the specified month of the year\n",
        "df_cleaned['month_of_year'] = pd.cut(df_cleaned['CrimeDateTime'].dt.month, bins=bins, labels=labels)\n",
        "\n",
        "# remove all rows with at least one empty cell\n",
        "df_cleaned.dropna(inplace=True)\n"
      ]
    },
    {
      "cell_type": "markdown",
      "metadata": {
        "id": "GosEEIjq8a4s"
      },
      "source": [
        "Cleaning ['Age']"
      ]
    },
    {
      "cell_type": "code",
      "execution_count": 10,
      "metadata": {
        "id": "lP4HB04Y8Xwf"
      },
      "outputs": [],
      "source": [
        "# remove negative values from age\n",
        "df_cleaned['binned_age'] = df_cleaned['Age'].apply(abs)\n",
        "\n",
        "# select rows where the 'Age' column is greater than or equal to 120 or less than 1\n",
        "df_selected = df_cleaned.loc[(df_cleaned['binned_age'] >= 120)]\n",
        "\n",
        "# drop the selected rows\n",
        "df_cleaned = df_cleaned.drop(df_selected.index)\n",
        "\n",
        "df_cleaned['binned_age'].describe()\n",
        "\n",
        "# create bins for the 'Age' column\n",
        "bins = [0, 14, 24, 64, 121]\n",
        "labels = ['child', 'youth', 'adult', 'senior']\n",
        "\n",
        "# use the pandas.cut() function to create the bins\n",
        "df_cleaned['binned_age'] = pd.cut(df_cleaned['binned_age'], bins, labels=labels)\n",
        "\n",
        "# convert the 'Age_bins' column to a string data type\n",
        "df_cleaned['binned_age'] = df_cleaned['binned_age'].astype(str)\n",
        "\n",
        "#remove rows with empty cells\n",
        "df_cleaned.dropna(inplace=True)\n"
      ]
    },
    {
      "cell_type": "markdown",
      "metadata": {
        "id": "evkrBv1V9Dvo"
      },
      "source": [
        "Checking ['District'], ['Weapon'], ['Race'], ['Neighborhood']"
      ]
    },
    {
      "cell_type": "code",
      "execution_count": 11,
      "metadata": {
        "id": "G5JlXjrm9J4Y"
      },
      "outputs": [],
      "source": [
        "# District is clean\n",
        "df_cleaned['cleaned_district'] = df_cleaned['District']\n",
        "\n",
        "# Weapon is clean\n",
        "df_cleaned['cleaned_weapon'] = df_cleaned['Weapon']\n",
        "\n",
        "# Race is clean\n",
        "df_cleaned['cleaned_race'] = df_cleaned['Race']\n",
        "\n",
        "# Neighborhood is clean\n",
        "df_cleaned['cleaned_neighborhood'] = df_cleaned['Neighborhood']"
      ]
    },
    {
      "cell_type": "markdown",
      "metadata": {
        "id": "NWYI_rNh9Xo5"
      },
      "source": [
        "Cleaning ['Gender']"
      ]
    },
    {
      "cell_type": "code",
      "execution_count": 12,
      "metadata": {
        "id": "PZSnKTE69bIZ"
      },
      "outputs": [],
      "source": [
        "# cleaning gender\n",
        "mask = df_cleaned['Gender'].isin([\"M\", \"F\", \"Male\", \"Female\"])\n",
        "\n",
        "# remove all that are not equal to \"M\", \"F\", \"Male\", \"Female\"\n",
        "df_cleaned = df_cleaned.assign(cleaned_gender=df_cleaned['Gender'][mask])\n",
        "\n",
        "# replace all F with female and all Male with M\n",
        "df_cleaned['cleaned_gender'].replace({\"Female\": \"F\", \"Male\": \"M\"}, inplace=True)\n",
        "\n",
        "#remove rows with empty cells\n",
        "df_cleaned.dropna(inplace=True)"
      ]
    },
    {
      "cell_type": "markdown",
      "metadata": {
        "id": "Q564ZxNt9sev"
      },
      "source": [
        "Cleaning ['Inside_Outside']"
      ]
    },
    {
      "cell_type": "code",
      "execution_count": 13,
      "metadata": {
        "id": "kNXn2-Ji9qoY"
      },
      "outputs": [],
      "source": [
        "# inside-outside cleaning\n",
        "df_cleaned = df_cleaned.assign(cleaned_inside_outside=df_cleaned['Inside_Outside'].replace({\"Inside\": \"I\", \"Outside\": \"O\"}))\n",
        "\n",
        "#remove rows with empty cells\n",
        "df_cleaned.dropna(inplace=True)\n"
      ]
    },
    {
      "cell_type": "markdown",
      "metadata": {
        "id": "FKiuFO89BKG4"
      },
      "source": [
        "Cleaning ['Longitude'], ['Latitude']"
      ]
    },
    {
      "cell_type": "code",
      "execution_count": 14,
      "metadata": {
        "id": "PtH_uoY0BRRt"
      },
      "outputs": [],
      "source": [
        "# clean longitude and latitude \n",
        "\n",
        "import numpy as np\n",
        "\n",
        "# calculate the min and max values in the longitude column\n",
        "lon_min = df_cleaned['Longitude'].min()\n",
        "lon_max = df_cleaned['Longitude'].max()\n",
        "\n",
        "# create evenly spaced bins for the longitude values\n",
        "lon_bins = np.linspace(lon_min, lon_max, 20)\n",
        "\n",
        "# calculate the min and max values in the latitude column\n",
        "lat_min = df_cleaned['Latitude'].min()\n",
        "lat_max = df_cleaned['Latitude'].max()\n",
        "\n",
        "# create evenly spaced bins for the latitude values\n",
        "lat_bins = np.linspace(lat_min, lat_max, 20)\n",
        "\n",
        "# add the bins as new columns in the dataframe\n",
        "df_cleaned['longitude_binned'] = pd.cut(df_cleaned['Longitude'], lon_bins)\n",
        "df_cleaned['latitude_binned'] = pd.cut(df_cleaned['Latitude'], lat_bins)\n",
        "\n",
        "\n",
        "# remove empty cells\n",
        "df_cleaned = df_cleaned.dropna(subset=['longitude_binned'])\n",
        "df_cleaned = df_cleaned.dropna(subset=['latitude_binned'])\n",
        "\n",
        "#convert to strings\n",
        "df_cleaned['longitude_binned'] = df_cleaned['longitude_binned'].astype(str)\n",
        "df_cleaned['latitude_binned'] = df_cleaned['latitude_binned'].astype(str)\n",
        "\n",
        "#remove rows with empty cells\n",
        "df_cleaned.dropna(inplace=True)"
      ]
    },
    {
      "cell_type": "markdown",
      "metadata": {
        "id": "P0n9cCpp95m9"
      },
      "source": [
        "Remove useless columns"
      ]
    },
    {
      "cell_type": "code",
      "execution_count": 15,
      "metadata": {
        "id": "GCsGQ8_f999k"
      },
      "outputs": [],
      "source": [
        "# remove useless columns\n",
        "df_removed = df_cleaned.drop(columns=['Description', 'CrimeDateTime', 'District', 'Inside_Outside', 'Weapon',\n",
        "       'Gender', 'Race', 'Neighborhood', 'Latitude', 'Longitude', 'Age'])"
      ]
    },
    {
      "cell_type": "code",
      "source": [
        "# display columns in df_removed\n",
        "df_removed.columns"
      ],
      "metadata": {
        "colab": {
          "base_uri": "https://localhost:8080/"
        },
        "id": "L1eLuzCBPJFR",
        "outputId": "2355178a-061d-441c-9450-f8f082bbd69f"
      },
      "execution_count": 16,
      "outputs": [
        {
          "output_type": "execute_result",
          "data": {
            "text/plain": [
              "Index(['nv_v', 'time_of_day', 'day_of_week', 'month_of_year', 'binned_age',\n",
              "       'cleaned_district', 'cleaned_weapon', 'cleaned_race',\n",
              "       'cleaned_neighborhood', 'cleaned_gender', 'cleaned_inside_outside',\n",
              "       'longitude_binned', 'latitude_binned'],\n",
              "      dtype='object')"
            ]
          },
          "metadata": {},
          "execution_count": 16
        }
      ]
    },
    {
      "cell_type": "code",
      "source": [
        "# View the shape of the df_removed DataFrame\n",
        "print(\"the shape of the df_removed DataFrame: \", df_removed.shape)\n",
        "\n",
        "# View the total number of elements in df_removed DataFrame\n",
        "print(\"the total number of elements in df_removed DataFrame: \", df_removed.size)"
      ],
      "metadata": {
        "colab": {
          "base_uri": "https://localhost:8080/"
        },
        "id": "pA26OP4OsZ26",
        "outputId": "faa0056c-9a95-42bf-92ea-235f500eff9d"
      },
      "execution_count": 33,
      "outputs": [
        {
          "output_type": "stream",
          "name": "stdout",
          "text": [
            "the shape of the df_removed DataFrame:  (346649, 13)\n",
            "the total number of elements in df_removed DataFrame:  4506437\n"
          ]
        }
      ]
    },
    {
      "cell_type": "markdown",
      "metadata": {
        "id": "tpsjMIrM-aSH"
      },
      "source": [
        "Encoding "
      ]
    },
    {
      "cell_type": "code",
      "execution_count": 37,
      "metadata": {
        "id": "4qkjh2pp-boT"
      },
      "outputs": [],
      "source": [
        "from sklearn.preprocessing import LabelEncoder, OneHotEncoder\n",
        "\n",
        "# create a new dataframe\n",
        "df_encoded = pd.DataFrame()\n",
        "\n",
        "# create a LabelEncoder instance\n",
        "le = LabelEncoder()\n",
        "\n",
        "# label encoding\n",
        "df_encoded['cleaned_gender'] = le.fit_transform(\n",
        "    df_removed['cleaned_gender'])\n",
        "df_encoded['cleaned_inside_outside'] = le.fit_transform(\n",
        "    df_removed['cleaned_inside_outside'])\n",
        "\n",
        "# create a OneHotEncoder instance\n",
        "ohe = OneHotEncoder(handle_unknown='ignore')\n",
        "\n",
        "# one hot encoding\n",
        "df_encoded = ohe.fit_transform(df_removed[['time_of_day', \n",
        "                                           'binned_age', 'month_of_year', \n",
        "                                           'cleaned_district', 'cleaned_weapon',\n",
        "                                           'cleaned_race', 'cleaned_neighborhood', \n",
        "                                           'longitude_binned', 'latitude_binned']])"
      ]
    },
    {
      "cell_type": "code",
      "source": [
        "# View the shape of the df_encoded DataFrame\n",
        "print(\"The shape of the df_encoded DataFrame: \", df_encoded.shape)\n",
        "\n",
        "# View the total number of elements in df_encoded DataFrame\n",
        "print(\"The total number of elements in df_encoded DataFrame:: \", df_encoded.size)"
      ],
      "metadata": {
        "colab": {
          "base_uri": "https://localhost:8080/"
        },
        "id": "AbplI7Nrsmf6",
        "outputId": "8f713979-f389-4fbb-ab09-30322e3a2034"
      },
      "execution_count": 38,
      "outputs": [
        {
          "output_type": "stream",
          "name": "stdout",
          "text": [
            "The shape of the df_encoded DataFrame:  (346649, 373)\n",
            "The total number of elements in df_encoded DataFrame::  3119841\n"
          ]
        }
      ]
    },
    {
      "cell_type": "markdown",
      "metadata": {
        "id": "_4UMhYyn_izb"
      },
      "source": [
        "Dimensionality Reduction with TruncatedSVD"
      ]
    },
    {
      "cell_type": "code",
      "execution_count": 43,
      "metadata": {
        "colab": {
          "base_uri": "https://localhost:8080/"
        },
        "id": "qXQd-Vvk_k8N",
        "outputId": "c649bc2a-3037-4a55-e936-49b1edce70d0"
      },
      "outputs": [
        {
          "output_type": "stream",
          "name": "stdout",
          "text": [
            "[0.01478071 0.06661343 0.05390044 0.0467612  0.03935562]\n"
          ]
        }
      ],
      "source": [
        "from sklearn.decomposition import TruncatedSVD\n",
        "\n",
        "# Fit and transform the encoded data using SVD\n",
        "svd = TruncatedSVD(n_components=5)\n",
        "svd_encoded = svd.fit_transform(df_encoded)\n",
        "\n",
        "# Print the explained variance ratio of the resulting components\n",
        "print(svd.explained_variance_ratio_)\n"
      ]
    },
    {
      "cell_type": "code",
      "source": [
        "# View the shape of the svd_encoded DataFrame\n",
        "print(\"The shape of the svd_encoded DataFrame: \", svd_encoded.shape)\n",
        "\n",
        "# View the total number of elements in svd_encoded DataFrame\n",
        "print(\"The total number of elements in svd_encoded DataFrame:: \", svd_encoded.size)"
      ],
      "metadata": {
        "colab": {
          "base_uri": "https://localhost:8080/"
        },
        "id": "5rydCyJZtVeb",
        "outputId": "3562988b-fb4c-41d1-fc96-ea08143ae17a"
      },
      "execution_count": 44,
      "outputs": [
        {
          "output_type": "stream",
          "name": "stdout",
          "text": [
            "The shape of the svd_encoded DataFrame:  (346649, 5)\n",
            "The total number of elements in svd_encoded DataFrame::  1733245\n"
          ]
        }
      ]
    },
    {
      "cell_type": "markdown",
      "source": [
        "Ranking importance of features using XGBoost"
      ],
      "metadata": {
        "id": "yGcCwboeOwHc"
      }
    },
    {
      "cell_type": "code",
      "source": [
        "import xgboost as xgb\n",
        "\n",
        "# Assume you have a matrix of training data, X, and a vector of labels, y\n",
        "model = xgb.XGBClassifier()\n",
        "xgb_ranked = model.fit(svd_encoded, df_removed['nv_v'])\n",
        "\n",
        "# Now you can obtain the feature importances using the `feature_importances_` attribute\n",
        "importances = model.feature_importances_\n",
        "\n",
        "# Visualize the feature importances using the `plot_importance()` function\n",
        "xgb.plot_importance(model, importance_type=\"weight\", max_num_features=5)\n"
      ],
      "metadata": {
        "colab": {
          "base_uri": "https://localhost:8080/",
          "height": 313
        },
        "id": "UqyohOscOwip",
        "outputId": "1ad37fbe-28d1-4f25-cf95-0008850dd5c8"
      },
      "execution_count": 45,
      "outputs": [
        {
          "output_type": "execute_result",
          "data": {
            "text/plain": [
              "<matplotlib.axes._subplots.AxesSubplot at 0x7fb5c13ddee0>"
            ]
          },
          "metadata": {},
          "execution_count": 45
        },
        {
          "output_type": "display_data",
          "data": {
            "text/plain": [
              "<Figure size 432x288 with 1 Axes>"
            ],
            "image/png": "[encoded data removed]"
          },
          "metadata": {
            "needs_background": "light"
          }
        }
      ]
    },
    {
      "cell_type": "code",
      "source": [
        "# Obtain the feature importances from the model\n",
        "importances = model.feature_importances_\n",
        "\n",
        "# Sort the indices of the array based on the feature importances\n",
        "sorted_indices = np.argsort(importances)[::-1]\n",
        "\n",
        "# Select the top 5 features using the sorted indices\n",
        "top_3_indices = sorted_indices[:3]\n",
        "xgb_ranked = svd_encoded[:, top_3_indices]\n"
      ],
      "metadata": {
        "id": "fXQgGOFmqN15"
      },
      "execution_count": 46,
      "outputs": []
    },
    {
      "cell_type": "code",
      "source": [
        "# View the shape of the xgb_ranked DataFrame\n",
        "print(\"The shape of the xgb_ranked DataFrame: \", xgb_ranked.shape)\n",
        "\n",
        "# View the total number of elements in xgb_ranked DataFrame\n",
        "print(\"The total number of elements in xgb_ranked DataFrame:: \", xgb_ranked.size)"
      ],
      "metadata": {
        "colab": {
          "base_uri": "https://localhost:8080/"
        },
        "id": "er46WgKXutKQ",
        "outputId": "8342dcad-4f53-4a70-95eb-6c2a4acf0662"
      },
      "execution_count": 47,
      "outputs": [
        {
          "output_type": "stream",
          "name": "stdout",
          "text": [
            "The shape of the xgb_ranked DataFrame:  (346649, 3)\n",
            "The total number of elements in xgb_ranked DataFrame::  1039947\n"
          ]
        }
      ]
    },
    {
      "cell_type": "markdown",
      "metadata": {
        "id": "wKzZPByeCjCU"
      },
      "source": [
        "Split Data"
      ]
    },
    {
      "cell_type": "code",
      "execution_count": 54,
      "metadata": {
        "id": "uZt8vLjBCk6x"
      },
      "outputs": [],
      "source": [
        "# define X\n",
        "X = xgb_ranked\n",
        "# define y\n",
        "y = df_removed['nv_v']\n",
        "\n",
        "\n",
        "# Import the train_test_split function from the sklearn.model_selection module\n",
        "from sklearn.model_selection import train_test_split\n",
        "\n",
        "# Split the data into training and test sets\n",
        "X_train, X_test, y_train, y_test = train_test_split(X, y, stratify=y, test_size=0.2, random_state=42) # stratify stratify=y\n"
      ]
    },
    {
      "cell_type": "markdown",
      "metadata": {
        "id": "MNW_grkWCs6b"
      },
      "source": [
        "Tune DecisionTreeClassifier using GridSearchCV to optimize hyperparameters"
      ]
    },
    {
      "cell_type": "code",
      "execution_count": 56,
      "metadata": {
        "colab": {
          "base_uri": "https://localhost:8080/"
        },
        "id": "Er4KCkkJCvZ9",
        "outputId": "223df5ec-ddf0-4a50-f9d2-7b75647cd2c7"
      },
      "outputs": [
        {
          "output_type": "stream",
          "name": "stdout",
          "text": [
            "{'criterion': 'entropy', 'max_depth': 9, 'min_samples_split': 2}\n"
          ]
        }
      ],
      "source": [
        "# Import the GridSearchCV class from the sklearn.model_selection module\n",
        "from sklearn.model_selection import GridSearchCV\n",
        "\n",
        "# Import the DecisionTreeClassifier class from the sklearn.tree module\n",
        "from sklearn.tree import DecisionTreeClassifier\n",
        "\n",
        "# Create a list of possible values for the hyperparameters\n",
        "param_grid = {\n",
        "    'max_depth': [3, 5, 7, 9],\n",
        "    'min_samples_split': [2, 5, 8, 11],\n",
        "    'criterion': ['gini', 'entropy']\n",
        "}\n",
        "\n",
        "# Create a decision tree model\n",
        "decisionTreeModel = DecisionTreeClassifier()\n",
        "\n",
        "# Use the GridSearchCV class to perform a grid search\n",
        "grid_search = GridSearchCV(decisionTreeModel, param_grid, cv=5, \n",
        "                           scoring='accuracy')\n",
        "grid_search.fit(X_train, y_train)\n",
        "\n",
        "# Print the best hyperparameters found by the grid search\n",
        "print(grid_search.best_params_)\n",
        "\n",
        "## Apply best model to the test data and output accuracy\n",
        "\n",
        "# Import the confusion_matrix function from the sklearn.metrics module\n",
        "from sklearn.metrics import classification_report, confusion_matrix\n",
        "\n",
        "# Use the predict() method to generate predictions for the test data\n",
        "DecisionTreePredictions = grid_search.predict(X_test)\n"
      ]
    },
    {
      "cell_type": "code",
      "execution_count": 57,
      "metadata": {
        "id": "MRHcLKeaC4Ym",
        "colab": {
          "base_uri": "https://localhost:8080/"
        },
        "outputId": "c286c366-79e5-4cfc-ba29-a3f681786ce0"
      },
      "outputs": [
        {
          "output_type": "stream",
          "name": "stdout",
          "text": [
            "              precision    recall  f1-score   support\n",
            "\n",
            " non_violent       0.75      0.93      0.83     37549\n",
            "     violent       0.89      0.63      0.73     31781\n",
            "\n",
            "    accuracy                           0.79     69330\n",
            "   macro avg       0.82      0.78      0.78     69330\n",
            "weighted avg       0.81      0.79      0.79     69330\n",
            "\n",
            "[[34970  2579]\n",
            " [11856 19925]]\n",
            "0.7917928746574354\n"
          ]
        }
      ],
      "source": [
        "from sklearn.metrics import accuracy_score\n",
        "# Use the classification_report() function to calculate the evaluation metrics for each class\n",
        "decisionTreeCR = classification_report(y_test, DecisionTreePredictions)\n",
        "\n",
        "# Print the classification_report\n",
        "print(decisionTreeCR)\n",
        "\n",
        "# Use the confusion_matrix() function to calculate the confusion matrix\n",
        "decisionTreeCM = confusion_matrix(y_test, DecisionTreePredictions)\n",
        "\n",
        "# Print the confusion_matrix\n",
        "print(decisionTreeCM)\n",
        "\n",
        "# Use the accuracy_score() function to calculate the accuracy_score\n",
        "decisionTreeAccuracy = accuracy_score(y_test, DecisionTreePredictions)\n",
        "# Print the confusion_matrix\n",
        "print(decisionTreeAccuracy)\n"
      ]
    },
    {
      "cell_type": "markdown",
      "source": [
        "Tune RandomForestClassifier using GridSearchCV to optimize hyperparameters"
      ],
      "metadata": {
        "id": "A2hluAAOG41d"
      }
    },
    {
      "cell_type": "code",
      "source": [
        "# Import the GridSearchCV class from the sklearn.model_selection module\n",
        "from sklearn.model_selection import GridSearchCV\n",
        "\n",
        "# Import the RandomForestClassifier class from the sklearn.ensemble module\n",
        "from sklearn.ensemble import RandomForestClassifier\n",
        "\n",
        "# Create a list of possible values for the hyperparameters\n",
        "param_grid = {\n",
        "    'n_estimators': [1, 2, 5, 10, 50, 100],\n",
        "}\n",
        "\n",
        "# Create a Random Forest model\n",
        "randomForestModel = RandomForestClassifier()\n",
        "\n",
        "# Use the GridSearchCV class to perform a grid search\n",
        "grid_search = GridSearchCV(randomForestModel, param_grid, cv=5, scoring='accuracy')\n",
        "grid_search.fit(X_train, y_train)\n",
        "\n",
        "# Print the best hyperparameters found by the grid search\n",
        "print(grid_search.best_params_)\n",
        "\n",
        "# Import the confusion_matrix function from the sklearn.metrics module\n",
        "from sklearn.metrics import classification_report, confusion_matrix\n",
        "\n",
        "# Use the predict() method to generate predictions for the test data\n",
        "randomForestPredictions = grid_search.predict(X_test)\n"
      ],
      "metadata": {
        "colab": {
          "base_uri": "https://localhost:8080/"
        },
        "id": "6D6ShG4FHAZk",
        "outputId": "030dc991-3fbf-45d7-803e-0c3e13b877bc"
      },
      "execution_count": 58,
      "outputs": [
        {
          "output_type": "stream",
          "name": "stdout",
          "text": [
            "{'n_estimators': 100}\n"
          ]
        }
      ]
    },
    {
      "cell_type": "code",
      "source": [
        "# Use the classification_report() function to calculate the evaluation metrics for each class\n",
        "randomForestCR = classification_report(y_test, randomForestPredictions)\n",
        "\n",
        "# Print the classification_report\n",
        "print(randomForestCR)\n",
        "\n",
        "# Use the confusion_matrix() function to calculate the confusion matrix\n",
        "randomForestCM = confusion_matrix(y_test, randomForestPredictions)\n",
        "\n",
        "# Print the confusion_matrix\n",
        "print(randomForestCM)\n",
        "\n",
        "# Use the accuracy_score() function to calculate the accuracy_score\n",
        "randomForestAccuracy = accuracy_score(y_test, randomForestPredictions)\n",
        "# Print the confusion_matrix\n",
        "print(randomForestAccuracy)"
      ],
      "metadata": {
        "id": "sD5NlK6FHKxA",
        "colab": {
          "base_uri": "https://localhost:8080/"
        },
        "outputId": "ebb2c83f-bd34-4b9d-c94c-315af612cef2"
      },
      "execution_count": 59,
      "outputs": [
        {
          "output_type": "stream",
          "name": "stdout",
          "text": [
            "              precision    recall  f1-score   support\n",
            "\n",
            " non_violent       0.75      0.85      0.80     37549\n",
            "     violent       0.80      0.67      0.73     31781\n",
            "\n",
            "    accuracy                           0.77     69330\n",
            "   macro avg       0.77      0.76      0.76     69330\n",
            "weighted avg       0.77      0.77      0.77     69330\n",
            "\n",
            "[[32100  5449]\n",
            " [10549 21232]]\n",
            "0.7692485215635367\n"
          ]
        }
      ]
    },
    {
      "cell_type": "markdown",
      "source": [
        "Tune KNeighborsClassifier using GridSearchCV to optimize hyperparameters"
      ],
      "metadata": {
        "id": "zwgEi023sEwL"
      }
    },
    {
      "cell_type": "code",
      "source": [
        "# KNeighborsClassifier --> DONE \n",
        "\n",
        "from sklearn.model_selection import GridSearchCV\n",
        "\n",
        "# Import the KNeighborsClassifier class from the sklearn.neighbors module\n",
        "from sklearn.neighbors import KNeighborsClassifier\n",
        "\n",
        "# Create a list of possible values for the hyperparameters\n",
        "param_grid = {\n",
        "    'n_neighbors': [3, 5, 7, 9],\n",
        "}\n",
        "\n",
        "# Create a K-Nearest Neighbors model\n",
        "kNeighborsModel = KNeighborsClassifier()\n",
        "\n",
        "# Use the GridSearchCV class to perform a grid search\n",
        "grid_search = GridSearchCV(kNeighborsModel, param_grid, cv=5, scoring='accuracy')\n",
        "grid_search.fit(X_train, y_train)\n",
        "\n",
        "# Print the best hyperparameters found by the grid search\n",
        "print(grid_search.best_params_)\n",
        "\n",
        "# Use the best hyperparameters to make predictions on the test set\n",
        "predictions = grid_search.predict(X_test)\n",
        "\n",
        "## Apply best model to the test data and output accuracy\n",
        "\n",
        "# Import the confusion_matrix function from the sklearn.metrics module\n",
        "from sklearn.metrics import classification_report, confusion_matrix\n",
        "\n",
        "# Use the predict() method to generate predictions for the test data\n",
        "kNeighborsPredictions = grid_search.predict(X_test)\n",
        "\n",
        "# output: {'n_neighbors': 9, 'p': 1, 'weights': 'distance'}"
      ],
      "metadata": {
        "id": "JHDS-PfKPX-f",
        "colab": {
          "base_uri": "https://localhost:8080/"
        },
        "outputId": "7602a03d-0489-4bdf-91a2-d2fc1a875011"
      },
      "execution_count": 60,
      "outputs": [
        {
          "output_type": "stream",
          "name": "stdout",
          "text": [
            "{'n_neighbors': 9}\n"
          ]
        }
      ]
    },
    {
      "cell_type": "code",
      "source": [
        "# Use the classification_report() function to calculate the evaluation metrics for each class\n",
        "kNeighborsCR = classification_report(y_test, kNeighborsPredictions)\n",
        "\n",
        "# Print the classification_report\n",
        "print(kNeighborsCR)\n",
        "\n",
        "# Use the confusion_matrix() function to calculate the confusion matrix\n",
        "kNeighborsCM = confusion_matrix(y_test, kNeighborsPredictions)\n",
        "\n",
        "# Print the confusion_matrix\n",
        "print(kNeighborsCM)\n",
        "\n",
        "# Use the accuracy_score() function to calculate the accuracy_score\n",
        "kNeighborsAccuracy = accuracy_score(y_test, kNeighborsPredictions)\n",
        "# Print the confusion_matrix\n",
        "print(kNeighborsAccuracy)\n"
      ],
      "metadata": {
        "id": "p8ix7IDWrXUR",
        "colab": {
          "base_uri": "https://localhost:8080/"
        },
        "outputId": "06b4e1c7-ed8a-44a2-e258-968a571b8dfa"
      },
      "execution_count": 61,
      "outputs": [
        {
          "output_type": "stream",
          "name": "stdout",
          "text": [
            "              precision    recall  f1-score   support\n",
            "\n",
            " non_violent       0.75      0.88      0.81     37549\n",
            "     violent       0.82      0.66      0.73     31781\n",
            "\n",
            "    accuracy                           0.78     69330\n",
            "   macro avg       0.79      0.77      0.77     69330\n",
            "weighted avg       0.79      0.78      0.78     69330\n",
            "\n",
            "[[33074  4475]\n",
            " [10805 20976]]\n",
            "0.779604788691764\n"
          ]
        }
      ]
    },
    {
      "cell_type": "markdown",
      "source": [
        "Tune GaussianNB using GridSearchCV to optimize hyperparameters"
      ],
      "metadata": {
        "id": "lE6ob9dksLaq"
      }
    },
    {
      "cell_type": "code",
      "source": [
        "# GaussianNB --> keep\n",
        "\n",
        "# Import the GridSearchCV class from the sklearn.model_selection module\n",
        "from sklearn.model_selection import GridSearchCV\n",
        "\n",
        "# Import the GaussianNB class from the sklearn.naive_bayes module\n",
        "from sklearn.naive_bayes import GaussianNB\n",
        "\n",
        "# Create a list of possible values for the hyperparameters\n",
        "param_grid = {\n",
        "    'var_smoothing': [1e-9, 1e-8, 1e-7, 1e-6]\n",
        "}\n",
        "\n",
        "# Create a Naive Bayes model\n",
        "naiveBayesModel = GaussianNB()\n",
        "\n",
        "# Use the GridSearchCV class to perform a grid search\n",
        "grid_search = GridSearchCV(naiveBayesModel, param_grid, cv=5, scoring='accuracy') \n",
        "grid_search.fit(X_train, y_train)\n",
        "\n",
        "# Print the best hyperparameters found by the grid search\n",
        "print(grid_search.best_params_)\n",
        "\n",
        "# Use the best hyperparameters to make predictions on the test set\n",
        "naiveBayesPredictions = grid_search.predict(X_test)"
      ],
      "metadata": {
        "id": "FS-kP8AqP9jD",
        "colab": {
          "base_uri": "https://localhost:8080/"
        },
        "outputId": "af7f0326-60bb-4ee6-ca49-085ea6faa727"
      },
      "execution_count": 63,
      "outputs": [
        {
          "output_type": "stream",
          "name": "stdout",
          "text": [
            "{'var_smoothing': 1e-09}\n"
          ]
        }
      ]
    },
    {
      "cell_type": "code",
      "source": [
        "# Use the classification_report() function to calculate the evaluation metrics for each class\n",
        "naiveBayesCR = classification_report(y_test, naiveBayesPredictions)\n",
        "\n",
        "# Print the classification_report\n",
        "print(naiveBayesCR)\n",
        "\n",
        "# Use the confusion_matrix() function to calculate the confusion matrix\n",
        "naiveBayesCM = confusion_matrix(y_test, naiveBayesPredictions)\n",
        "\n",
        "# Print the confusion_matrix\n",
        "print(naiveBayesCM)\n",
        "\n",
        "# Use the accuracy_score() function to calculate the accuracy_score\n",
        "naiveBayesAccuracy = accuracy_score(y_test, naiveBayesPredictions)\n",
        "# Print the confusion_matrix\n",
        "print(naiveBayesAccuracy)\n"
      ],
      "metadata": {
        "id": "ET7HDAZFzJ9n",
        "colab": {
          "base_uri": "https://localhost:8080/"
        },
        "outputId": "79873f96-0efd-49d3-8b7a-d06ba275c42b"
      },
      "execution_count": 64,
      "outputs": [
        {
          "output_type": "stream",
          "name": "stdout",
          "text": [
            "              precision    recall  f1-score   support\n",
            "\n",
            " non_violent       0.74      0.79      0.77     37549\n",
            "     violent       0.73      0.67      0.70     31781\n",
            "\n",
            "    accuracy                           0.74     69330\n",
            "   macro avg       0.74      0.73      0.73     69330\n",
            "weighted avg       0.74      0.74      0.74     69330\n",
            "\n",
            "[[29772  7777]\n",
            " [10486 21295]]\n",
            "0.7365786816673878\n"
          ]
        }
      ]
    },
    {
      "cell_type": "markdown",
      "source": [
        "Tune MLPClassifier using GridSearchCV to optimize hyperparameters"
      ],
      "metadata": {
        "id": "5Iwi6itWsQOu"
      }
    },
    {
      "cell_type": "code",
      "source": [
        "# MLPClassifier\n",
        "\n",
        "# Import the MLPClassifier class from the sklearn.neural_network module\n",
        "from sklearn.neural_network import MLPClassifier\n",
        "\n",
        "# Create a list of possible values for the hyperparameters\n",
        "param_grid = {\n",
        "    'hidden_layer_sizes': [(10,10), (100,100), (10,10,10)],\n",
        "}\n",
        "\n",
        "# Create a Multi-Layer Perceptron model\n",
        "mlpClassifierModel = MLPClassifier()\n",
        "\n",
        "# Use the GridSearchCV class to perform a grid search\n",
        "grid_search = GridSearchCV(mlpClassifierModel, param_grid, cv=5, scoring='accuracy')\n",
        "grid_search.fit(X_train, y_train)\n",
        "\n",
        "# Print the best hyperparameters found by the grid search\n",
        "print(grid_search.best_params_)\n",
        "\n",
        "## Apply best model to the test data and output accuracy\n",
        "\n",
        "# Import the confusion_matrix function from the sklearn.metrics module\n",
        "from sklearn.metrics import classification_report, confusion_matrix\n",
        "\n",
        "# Use the predict() method to generate predictions for the test data\n",
        "mlpClassifierPredictions = grid_search.predict(X_test)\n"
      ],
      "metadata": {
        "id": "k1j6pCagRBZc",
        "colab": {
          "base_uri": "https://localhost:8080/"
        },
        "outputId": "00a6ada3-d384-4079-ade8-9d10c1d4888d"
      },
      "execution_count": 66,
      "outputs": [
        {
          "output_type": "stream",
          "name": "stdout",
          "text": [
            "{'hidden_layer_sizes': (100, 100)}\n"
          ]
        }
      ]
    },
    {
      "cell_type": "code",
      "source": [
        "\n",
        "# Use the classification_report() function to calculate the evaluation metrics for each class\n",
        "mlpClassifierCR = classification_report(y_test, mlpClassifierPredictions)\n",
        "\n",
        "# Print the classification_report\n",
        "print(mlpClassifierCR)\n",
        "\n",
        "# Use the confusion_matrix() function to calculate the confusion matrix\n",
        "mlpClassifierCM = confusion_matrix(y_test, mlpClassifierPredictions)\n",
        "\n",
        "# Print the confusion_matrix\n",
        "print(mlpClassifierCM)\n",
        "\n",
        "# Use the accuracy_score() function to calculate the accuracy_score\n",
        "mlpClassifierAccuracy = accuracy_score(y_test, mlpClassifierPredictions)\n",
        "# Print the confusion_matrix\n",
        "print(mlpClassifierAccuracy)\n"
      ],
      "metadata": {
        "id": "bpkNbDMG1NH3",
        "colab": {
          "base_uri": "https://localhost:8080/"
        },
        "outputId": "42648f4a-e4b9-4b3f-8645-fdda1d174b4d"
      },
      "execution_count": 69,
      "outputs": [
        {
          "output_type": "stream",
          "name": "stdout",
          "text": [
            "              precision    recall  f1-score   support\n",
            "\n",
            " non_violent       0.75      0.93      0.83     37549\n",
            "     violent       0.89      0.64      0.74     31781\n",
            "\n",
            "    accuracy                           0.80     69330\n",
            "   macro avg       0.82      0.78      0.79     69330\n",
            "weighted avg       0.81      0.80      0.79     69330\n",
            "\n",
            "[[34980  2569]\n",
            " [11583 20198]]\n",
            "0.7958748016731574\n"
          ]
        }
      ]
    },
    {
      "cell_type": "code",
      "source": [
        "import matplotlib.pyplot as plt\n",
        "\n",
        "accuracies = [decisionTreeAccuracy, kNeighborsAccuracy, mlpClassifierAccuracy, naiveBayesAccuracy, randomForestAccuracy]\n",
        "model_labels = ['decisionTree', 'kNeighbors', 'mlpClassifier', 'naiveBayes', 'randomForest']\n",
        "\n",
        "# Sort the data in ascending order\n",
        "sorted_accuracies, sorted_labels = zip(*sorted(zip(accuracies, model_labels)))\n",
        "\n",
        "# Create the plot\n",
        "fig, ax = plt.subplots(figsize=(10, 5))\n",
        "\n",
        "plt.xticks(rotation=45)\n",
        "plt.grid()\n",
        "\n",
        "plt.title('Accuracy of the Models', fontsize=20)\n",
        "plt.xlabel('Model', fontsize=15)\n",
        "plt.ylabel('Accuracy', fontsize=15)\n",
        "\n",
        "# Plot the sorted data and set the y-axis limits for the plot\n",
        "bars = ax.bar(sorted_labels, sorted_accuracies, align='center', alpha=0.5)\n",
        "plt.ylim([0.7, 0.8])\n",
        "\n",
        "# Add value labels to the bars\n",
        "for bar in bars:\n",
        "    height = bar.get_height()\n",
        "    ax.text(bar.get_x() + bar.get_width()/2, height, '%.2f' % height, ha='center', va='bottom')\n"
      ],
      "metadata": {
        "colab": {
          "base_uri": "https://localhost:8080/",
          "height": 406
        },
        "id": "2KYTxrDtPvWF",
        "outputId": "955ecbdb-7199-4fe6-87a3-8b2a6b929057"
      },
      "execution_count": 105,
      "outputs": [
        {
          "output_type": "display_data",
          "data": {
            "text/plain": [
              "<Figure size 720x360 with 1 Axes>"
            ],
            "image/png": "[encoded data removed]"
          },
          "metadata": {
            "needs_background": "light"
          }
        }
      ]
    },
    {
      "cell_type": "code",
      "source": [],
      "metadata": {
        "id": "xoL91kSRjDH7"
      },
      "execution_count": null,
      "outputs": []
    }
  ],
  "metadata": {
    "colab": {
      "provenance": [],
      "mount_file_id": "1etuMNkKVU9lhyZAZAW1jz3Mbzv2L-0-i",
      "authorship_tag": "ABX9TyPU0MO9gZJLOLIkBnmQzOoE",
      "include_colab_link": true
    },
    "kernelspec": {
      "display_name": "Python 3",
      "name": "python3"
    },
    "language_info": {
      "name": "python"
    }
  },
  "nbformat": 4,
  "nbformat_minor": 0
}
