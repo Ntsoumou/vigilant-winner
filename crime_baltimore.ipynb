{
  "nbformat": 4,
  "nbformat_minor": 0,
  "metadata": {
    "colab": {
      "provenance": []
    },
    "kernelspec": {
      "name": "python3",
      "display_name": "Python 3"
    },
    "language_info": {
      "name": "python"
    },
    "accelerator": "GPU",
    "gpuClass": "standard"
  },
  "cells": [
    {
      "cell_type": "markdown",
      "source": [
        "Step 1 - Import data"
      ],
      "metadata": {
        "id": "41djtFcZTf8Y"
      }
    },
    {
      "cell_type": "code",
      "source": [
        "# Author: Ntsoumou, Manuel Davy\n",
        "# License: Attribution required\n",
        "# data source: https://www.baltimorepolice.org/crime-stats/open-data"
      ],
      "metadata": {
        "id": "sCt6MbKoO9eu"
      },
      "execution_count": null,
      "outputs": []
    },
    {
      "cell_type": "code",
      "execution_count": null,
      "metadata": {
        "id": "5iNRnXC5LBHb"
      },
      "outputs": [],
      "source": [
        "# Import the files module\n",
        "from google.colab import files\n",
        "\n",
        "# Use the files.upload() function to upload the CSV file from your local machine\n",
        "uploaded = files.upload()\n"
      ]
    },
    {
      "cell_type": "code",
      "source": [
        "# Import the pandas library\n",
        "import pandas as pd\n",
        "\n",
        "# Read the CSV file into a Pandas dataframe\n",
        "df = pd.read_csv('/content/drive/MyDrive/Colab Notebooks/crime-baltimore.csv')"
      ],
      "metadata": {
        "id": "xQL2TY4jTwfW",
        "colab": {
          "base_uri": "https://localhost:8080/"
        },
        "outputId": "1a9d026b-f711-4222-e501-1ed016fd5dec"
      },
      "execution_count": null,
      "outputs": [
        {
          "output_type": "stream",
          "name": "stderr",
          "text": [
            "/usr/local/lib/python3.8/dist-packages/IPython/core/interactiveshell.py:3326: DtypeWarning: Columns (9,13) have mixed types.Specify dtype option on import or set low_memory=False.\n",
            "  exec(code_obj, self.user_global_ns, self.user_ns)\n"
          ]
        }
      ]
    },
    {
      "cell_type": "code",
      "source": [
        "df.shape"
      ],
      "metadata": {
        "colab": {
          "base_uri": "https://localhost:8080/"
        },
        "id": "fgFcdDjGXqDZ",
        "outputId": "92070748-9d89-47f3-f527-4163979f765e"
      },
      "execution_count": null,
      "outputs": [
        {
          "output_type": "execute_result",
          "data": {
            "text/plain": [
              "(544414, 23)"
            ]
          },
          "metadata": {},
          "execution_count": 45
        }
      ]
    },
    {
      "cell_type": "markdown",
      "source": [
        "Step 2 - Feature Selection"
      ],
      "metadata": {
        "id": "L7hF3Gf1BPj3"
      }
    },
    {
      "cell_type": "code",
      "source": [
        "# create a new dataframe\n",
        "df_cleaned = pd.DataFrame()\n",
        "\n",
        "#predictor (y)\n",
        "df_cleaned['Description'] = df['Description']\n",
        "\n",
        "#features (X)\n",
        "df_cleaned['District'] = df['District']\n",
        "df_cleaned['CrimeDateTime'] = df['CrimeDateTime'] \n",
        "df_cleaned['Inside_Outside'] = df['Inside_Outside'] \n",
        "df_cleaned['Weapon'] = df['Weapon'].fillna('no_weapon') \n",
        "df_cleaned['Gender'] = df['Gender']\n",
        "df_cleaned['Race'] = df['Race']\n",
        "df_cleaned['Neighborhood'] = df['Neighborhood']\n",
        "df_cleaned['Latitude'] = df['Latitude']\n",
        "df_cleaned['Longitude'] = df['Longitude']\n",
        "df_cleaned['Age'] = df['Age']\n",
        "\n",
        "# remove rows with empty cells\n",
        "df_cleaned.dropna(inplace=True)\n",
        "\n",
        "#re-index the dataframe\n",
        "df_cleaned.reset_index(drop=True, inplace=True)\n",
        "\n",
        "df_cleaned.shape"
      ],
      "metadata": {
        "id": "zbPKl-4JAxB3",
        "colab": {
          "base_uri": "https://localhost:8080/"
        },
        "outputId": "182289e2-a516-42bb-c136-8bc20afd9a13"
      },
      "execution_count": null,
      "outputs": [
        {
          "output_type": "execute_result",
          "data": {
            "text/plain": [
              "(366451, 11)"
            ]
          },
          "metadata": {},
          "execution_count": 46
        }
      ]
    },
    {
      "cell_type": "code",
      "source": [
        "print(df_cleaned.columns)"
      ],
      "metadata": {
        "colab": {
          "base_uri": "https://localhost:8080/"
        },
        "id": "53B_peicI2xx",
        "outputId": "d6cddf6c-7894-497c-b179-acf41f40057c"
      },
      "execution_count": null,
      "outputs": [
        {
          "output_type": "stream",
          "name": "stdout",
          "text": [
            "Index(['Description', 'District', 'CrimeDateTime', 'Inside_Outside', 'Weapon',\n",
            "       'Gender', 'Race', 'Neighborhood', 'Latitude', 'Longitude', 'Age'],\n",
            "      dtype='object')\n"
          ]
        }
      ]
    },
    {
      "cell_type": "code",
      "source": [
        "df_cleaned.to_csv('df_cleaned.csv')"
      ],
      "metadata": {
        "id": "jVqxdHVTa1bj"
      },
      "execution_count": null,
      "outputs": []
    },
    {
      "cell_type": "markdown",
      "source": [
        "WIP"
      ],
      "metadata": {
        "id": "0XSuDvhP54eb"
      }
    },
    {
      "cell_type": "code",
      "source": [
        "df_cleaned['Description'].value_counts()\n",
        "\n",
        "import seaborn as sns\n",
        "from matplotlib import pyplot as plt\n",
        "\n",
        "width = 15\n",
        "height = 6\n",
        "\n",
        "# https://www.hindawi.com/journals/complexity/2022/4830411/\n",
        "\n",
        "# ---> predict violent/non-violent crimes\n",
        "\n",
        "# rotate and change the font size of the column labels\n",
        "plt.figure(figsize=(width, height))\n",
        "\n",
        "# get the counts of each unique value in the \"Description\" column\n",
        "counts = df['Age'].value_counts()\n",
        "\n",
        "# sort the data by the counts in the \"Description\" column\n",
        "data = df.sort_values('Age', key=counts.get)\n",
        "\n",
        "# create the plot using the sorted data\n",
        "plt.figure(figsize=(width, height))\n",
        "sns.set_style('darkgrid')\n",
        "sns.set_context('notebook')\n",
        "sns.countplot(x='Age', data=data)\n",
        "\n",
        "plt.xticks(rotation=45)\n",
        "\n"
      ],
      "metadata": {
        "colab": {
          "base_uri": "https://localhost:8080/",
          "height": 407
        },
        "id": "3PqxaIG0pfYl",
        "outputId": "c52978b7-42ba-4387-8152-4fdf55547efb"
      },
      "execution_count": null,
      "outputs": [
        {
          "output_type": "error",
          "ename": "TypeError",
          "evalue": "ignored",
          "traceback": [
            "\u001b[0;31m---------------------------------------------------------------------------\u001b[0m",
            "\u001b[0;31mTypeError\u001b[0m                                 Traceback (most recent call last)",
            "\u001b[0;32m<ipython-input-35-ea7795c46364>\u001b[0m in \u001b[0;36m<module>\u001b[0;34m\u001b[0m\n\u001b[1;32m     18\u001b[0m \u001b[0;34m\u001b[0m\u001b[0m\n\u001b[1;32m     19\u001b[0m \u001b[0;31m# sort the data by the counts in the \"Description\" column\u001b[0m\u001b[0;34m\u001b[0m\u001b[0;34m\u001b[0m\u001b[0;34m\u001b[0m\u001b[0m\n\u001b[0;32m---> 20\u001b[0;31m \u001b[0mdata\u001b[0m \u001b[0;34m=\u001b[0m \u001b[0mdf\u001b[0m\u001b[0;34m.\u001b[0m\u001b[0msort_values\u001b[0m\u001b[0;34m(\u001b[0m\u001b[0;34m'Age'\u001b[0m\u001b[0;34m,\u001b[0m \u001b[0mkey\u001b[0m\u001b[0;34m=\u001b[0m\u001b[0mcounts\u001b[0m\u001b[0;34m.\u001b[0m\u001b[0mget\u001b[0m\u001b[0;34m)\u001b[0m\u001b[0;34m\u001b[0m\u001b[0;34m\u001b[0m\u001b[0m\n\u001b[0m\u001b[1;32m     21\u001b[0m \u001b[0;34m\u001b[0m\u001b[0m\n\u001b[1;32m     22\u001b[0m \u001b[0;31m# create the plot using the sorted data\u001b[0m\u001b[0;34m\u001b[0m\u001b[0;34m\u001b[0m\u001b[0;34m\u001b[0m\u001b[0m\n",
            "\u001b[0;32m/usr/local/lib/python3.8/dist-packages/pandas/util/_decorators.py\u001b[0m in \u001b[0;36mwrapper\u001b[0;34m(*args, **kwargs)\u001b[0m\n\u001b[1;32m    309\u001b[0m                     \u001b[0mstacklevel\u001b[0m\u001b[0;34m=\u001b[0m\u001b[0mstacklevel\u001b[0m\u001b[0;34m,\u001b[0m\u001b[0;34m\u001b[0m\u001b[0;34m\u001b[0m\u001b[0m\n\u001b[1;32m    310\u001b[0m                 )\n\u001b[0;32m--> 311\u001b[0;31m             \u001b[0;32mreturn\u001b[0m \u001b[0mfunc\u001b[0m\u001b[0;34m(\u001b[0m\u001b[0;34m*\u001b[0m\u001b[0margs\u001b[0m\u001b[0;34m,\u001b[0m \u001b[0;34m**\u001b[0m\u001b[0mkwargs\u001b[0m\u001b[0;34m)\u001b[0m\u001b[0;34m\u001b[0m\u001b[0;34m\u001b[0m\u001b[0m\n\u001b[0m\u001b[1;32m    312\u001b[0m \u001b[0;34m\u001b[0m\u001b[0m\n\u001b[1;32m    313\u001b[0m         \u001b[0;32mreturn\u001b[0m \u001b[0mwrapper\u001b[0m\u001b[0;34m\u001b[0m\u001b[0;34m\u001b[0m\u001b[0m\n",
            "\u001b[0;32m/usr/local/lib/python3.8/dist-packages/pandas/core/frame.py\u001b[0m in \u001b[0;36msort_values\u001b[0;34m(self, by, axis, ascending, inplace, kind, na_position, ignore_index, key)\u001b[0m\n\u001b[1;32m   6268\u001b[0m                 \u001b[0mascending\u001b[0m \u001b[0;34m=\u001b[0m \u001b[0mascending\u001b[0m\u001b[0;34m[\u001b[0m\u001b[0;36m0\u001b[0m\u001b[0;34m]\u001b[0m\u001b[0;34m\u001b[0m\u001b[0;34m\u001b[0m\u001b[0m\n\u001b[1;32m   6269\u001b[0m \u001b[0;34m\u001b[0m\u001b[0m\n\u001b[0;32m-> 6270\u001b[0;31m             indexer = nargsort(\n\u001b[0m\u001b[1;32m   6271\u001b[0m                 \u001b[0mk\u001b[0m\u001b[0;34m,\u001b[0m \u001b[0mkind\u001b[0m\u001b[0;34m=\u001b[0m\u001b[0mkind\u001b[0m\u001b[0;34m,\u001b[0m \u001b[0mascending\u001b[0m\u001b[0;34m=\u001b[0m\u001b[0mascending\u001b[0m\u001b[0;34m,\u001b[0m \u001b[0mna_position\u001b[0m\u001b[0;34m=\u001b[0m\u001b[0mna_position\u001b[0m\u001b[0;34m,\u001b[0m \u001b[0mkey\u001b[0m\u001b[0;34m=\u001b[0m\u001b[0mkey\u001b[0m\u001b[0;34m\u001b[0m\u001b[0;34m\u001b[0m\u001b[0m\n\u001b[1;32m   6272\u001b[0m             )\n",
            "\u001b[0;32m/usr/local/lib/python3.8/dist-packages/pandas/core/sorting.py\u001b[0m in \u001b[0;36mnargsort\u001b[0;34m(items, kind, ascending, na_position, key, mask)\u001b[0m\n\u001b[1;32m    371\u001b[0m \u001b[0;34m\u001b[0m\u001b[0m\n\u001b[1;32m    372\u001b[0m     \u001b[0;32mif\u001b[0m \u001b[0mkey\u001b[0m \u001b[0;32mis\u001b[0m \u001b[0;32mnot\u001b[0m \u001b[0;32mNone\u001b[0m\u001b[0;34m:\u001b[0m\u001b[0;34m\u001b[0m\u001b[0;34m\u001b[0m\u001b[0m\n\u001b[0;32m--> 373\u001b[0;31m         \u001b[0mitems\u001b[0m \u001b[0;34m=\u001b[0m \u001b[0mensure_key_mapped\u001b[0m\u001b[0;34m(\u001b[0m\u001b[0mitems\u001b[0m\u001b[0;34m,\u001b[0m \u001b[0mkey\u001b[0m\u001b[0;34m)\u001b[0m\u001b[0;34m\u001b[0m\u001b[0;34m\u001b[0m\u001b[0m\n\u001b[0m\u001b[1;32m    374\u001b[0m         return nargsort(\n\u001b[1;32m    375\u001b[0m             \u001b[0mitems\u001b[0m\u001b[0;34m,\u001b[0m\u001b[0;34m\u001b[0m\u001b[0;34m\u001b[0m\u001b[0m\n",
            "\u001b[0;32m/usr/local/lib/python3.8/dist-packages/pandas/core/sorting.py\u001b[0m in \u001b[0;36mensure_key_mapped\u001b[0;34m(values, key, levels)\u001b[0m\n\u001b[1;32m    530\u001b[0m \u001b[0;34m\u001b[0m\u001b[0m\n\u001b[1;32m    531\u001b[0m     \u001b[0mresult\u001b[0m \u001b[0;34m=\u001b[0m \u001b[0mkey\u001b[0m\u001b[0;34m(\u001b[0m\u001b[0mvalues\u001b[0m\u001b[0;34m.\u001b[0m\u001b[0mcopy\u001b[0m\u001b[0;34m(\u001b[0m\u001b[0;34m)\u001b[0m\u001b[0;34m)\u001b[0m\u001b[0;34m\u001b[0m\u001b[0;34m\u001b[0m\u001b[0m\n\u001b[0;32m--> 532\u001b[0;31m     \u001b[0;32mif\u001b[0m \u001b[0mlen\u001b[0m\u001b[0;34m(\u001b[0m\u001b[0mresult\u001b[0m\u001b[0;34m)\u001b[0m \u001b[0;34m!=\u001b[0m \u001b[0mlen\u001b[0m\u001b[0;34m(\u001b[0m\u001b[0mvalues\u001b[0m\u001b[0;34m)\u001b[0m\u001b[0;34m:\u001b[0m\u001b[0;34m\u001b[0m\u001b[0;34m\u001b[0m\u001b[0m\n\u001b[0m\u001b[1;32m    533\u001b[0m         raise ValueError(\n\u001b[1;32m    534\u001b[0m             \u001b[0;34m\"User-provided `key` function must not change the shape of the array.\"\u001b[0m\u001b[0;34m\u001b[0m\u001b[0;34m\u001b[0m\u001b[0m\n",
            "\u001b[0;31mTypeError\u001b[0m: object of type 'NoneType' has no len()"
          ]
        },
        {
          "output_type": "display_data",
          "data": {
            "text/plain": [
              "<Figure size 1080x432 with 0 Axes>"
            ]
          },
          "metadata": {}
        }
      ]
    },
    {
      "cell_type": "markdown",
      "source": [
        "Step 3 - Cleaning Data"
      ],
      "metadata": {
        "id": "uxD3EKjrB3C3"
      }
    },
    {
      "cell_type": "code",
      "source": [
        "#violent/non_violent\n",
        "\n",
        "# Import the seaborn library\n",
        "import seaborn as sns\n",
        "import numpy as np\n",
        "\n",
        "# Create a list of values to be checked\n",
        "values = ['AGG. ASSAULT', 'ROBBERY', 'SHOOTING', \n",
        "          'COMMON ASSAULT', 'HOMICIDE', 'RAPE', \n",
        "          'ROBBERY - CARJACKING']\n",
        "\n",
        "# Use the `isin()` method to check which rows \n",
        "# in the 'Description' column contain one of the values from the `values` list\n",
        "mask = df_cleaned['Description'].isin(values)\n",
        "\n",
        "# Use the `where()` function to create the 'nv_v' column\n",
        "df_cleaned['nv_v'] = np.where(mask, 'violent', 'non_violent')\n",
        "\n",
        "\n",
        "df_cleaned['nv_v'].value_counts()\n",
        "\n",
        "# rotate and change the font size of the column labels\n",
        "plt.figure(figsize=(width, height))\n",
        "\n",
        "# Use the `set_style()` function to specify a style for the plot\n",
        "sns.set_style('darkgrid')\n",
        "\n",
        "# Use the `set_context()` function to specify a context for the plot\n",
        "sns.set_context('notebook')\n",
        "\n",
        "# Use the `countplot()` function to create a bar chart of the values in the 'nv_v' column\n",
        "sns.countplot(x='nv_v', data=df_cleaned)\n",
        "\n",
        "df_cleaned.columns"
      ],
      "metadata": {
        "colab": {
          "base_uri": "https://localhost:8080/",
          "height": 465
        },
        "id": "7z0XJ9MLUH3f",
        "outputId": "9c1f7fc6-a023-4a26-c243-a2e130c6edca"
      },
      "execution_count": null,
      "outputs": [
        {
          "output_type": "execute_result",
          "data": {
            "text/plain": [
              "Index(['Description', 'District', 'CrimeDateTime', 'Inside_Outside', 'Weapon',\n",
              "       'Gender', 'Race', 'Neighborhood', 'Latitude', 'Longitude', 'Age',\n",
              "       'nv_v'],\n",
              "      dtype='object')"
            ]
          },
          "metadata": {},
          "execution_count": 18
        },
        {
          "output_type": "display_data",
          "data": {
            "text/plain": [
              "<Figure size 1080x432 with 1 Axes>"
            ],
            "image/png": "[encoded data removed]"
          },
          "metadata": {}
        }
      ]
    },
    {
      "cell_type": "code",
      "source": [
        "# convert the column to datetime type, coerce any values that cannot be parsed to NaT\n",
        "df_cleaned['CrimeDateTime'] = pd.to_datetime(df_cleaned['CrimeDateTime'], \n",
        "                                             errors='coerce')\n",
        "\n",
        "\n",
        "# remove rows with NaT values from the DataFrame\n",
        "df_cleaned = df_cleaned.dropna()\n",
        "\n",
        "# convert the column to datetime type\n",
        "df_cleaned['CrimeDateTime'] = pd.to_datetime(\n",
        "    df_cleaned['CrimeDateTime'])\n",
        "\n",
        "# create bins for morning, afternoon, evening, and night\n",
        "bins = [0, 12, 18, 24]\n",
        "\n",
        "# create labels for the bins\n",
        "labels = ['morning', 'afternoon', 'evening']\n",
        "\n",
        "# use pd.cut() to bin the rows into the specified time intervals\n",
        "df_cleaned['time_of_day'] = pd.cut(df_cleaned['CrimeDateTime'].dt.hour, \n",
        "                                   bins=bins, labels=labels)\n",
        "\n",
        "\n",
        "sns.countplot(x='time_of_day', data=df_cleaned)\n",
        "\n",
        "df_cleaned['CrimeDateTime'].head"
      ],
      "metadata": {
        "id": "uRsGq0zvBxOu",
        "colab": {
          "base_uri": "https://localhost:8080/",
          "height": 502
        },
        "outputId": "a2049cf3-6e77-435c-aab4-b7f7c05359ac"
      },
      "execution_count": null,
      "outputs": [
        {
          "output_type": "execute_result",
          "data": {
            "text/plain": [
              "<bound method NDFrame.head of 0        2022-10-22 23:00:00+00:00\n",
              "1        2022-10-22 14:44:00+00:00\n",
              "2        2022-10-22 21:45:00+00:00\n",
              "3        2022-10-22 23:00:00+00:00\n",
              "4        2022-10-22 17:30:00+00:00\n",
              "                    ...           \n",
              "366445   2022-09-05 19:34:00+00:00\n",
              "366446   2022-09-05 19:27:00+00:00\n",
              "366447   2022-09-05 18:45:00+00:00\n",
              "366448   2022-09-05 14:00:00+00:00\n",
              "366449   2022-09-05 09:30:00+00:00\n",
              "Name: CrimeDateTime, Length: 347744, dtype: datetime64[ns, UTC]>"
            ]
          },
          "metadata": {},
          "execution_count": 38
        },
        {
          "output_type": "display_data",
          "data": {
            "text/plain": [
              "<Figure size 432x288 with 1 Axes>"
            ],
            "image/png": "[encoded data removed]"
          },
          "metadata": {}
        }
      ]
    },
    {
      "cell_type": "code",
      "source": [
        "# create bins for each day of the week\n",
        "bins = [0, 1, 2, 3, 4, 5, 6, 7]\n",
        "\n",
        "# create labels for the bins\n",
        "labels = ['Monday', 'Tuesday', 'Wednesday', 'Thursday', 'Friday', 'Saturday', 'Sunday']\n",
        "\n",
        "# use pd.cut() to bin the rows into the specified day of the week\n",
        "df_cleaned['day_of_week'] = pd.cut(df_cleaned['CrimeDateTime'].dt.dayofweek, bins=bins, labels=labels)\n",
        "\n",
        "sns.countplot(x='day_of_week', data=df_cleaned)\n"
      ],
      "metadata": {
        "id": "A_f2sUIICUQ7",
        "colab": {
          "base_uri": "https://localhost:8080/",
          "height": 303
        },
        "outputId": "e78216fe-aa6b-452f-e5cf-7b4360418969"
      },
      "execution_count": null,
      "outputs": [
        {
          "output_type": "execute_result",
          "data": {
            "text/plain": [
              "<matplotlib.axes._subplots.AxesSubplot at 0x7fad52ede8b0>"
            ]
          },
          "metadata": {},
          "execution_count": 26
        },
        {
          "output_type": "display_data",
          "data": {
            "text/plain": [
              "<Figure size 432x288 with 1 Axes>"
            ],
            "image/png": "[encoded data removed]"
          },
          "metadata": {}
        }
      ]
    },
    {
      "cell_type": "code",
      "source": [
        "# create bins for each month of the year\n",
        "bins = [0, 1, 2, 3, 4, 5, 6, 7, 8, 9, 10, 11, 12]\n",
        "\n",
        "# create labels for the bins\n",
        "labels = ['January', 'February', 'March', 'April', 'May', 'June', 'July', 'August', 'September', 'October', 'November', 'December']\n",
        "\n",
        "# use pd.cut() to bin the rows into the specified month of the year\n",
        "df_cleaned['month_of_year'] = pd.cut(df_cleaned['CrimeDateTime'].dt.month, bins=bins, labels=labels)\n",
        "\n",
        "# remove all rows with at least one empty cell\n",
        "df_cleaned.dropna(inplace=True)\n",
        "\n",
        "sns.countplot(x='month_of_year', data=df_cleaned)\n"
      ],
      "metadata": {
        "id": "EFarIA8aCkJB",
        "colab": {
          "base_uri": "https://localhost:8080/",
          "height": 303
        },
        "outputId": "7cdaab9d-3c6b-47a3-be43-92b253946d95"
      },
      "execution_count": null,
      "outputs": [
        {
          "output_type": "execute_result",
          "data": {
            "text/plain": [
              "<matplotlib.axes._subplots.AxesSubplot at 0x7fad52ed0d60>"
            ]
          },
          "metadata": {},
          "execution_count": 27
        },
        {
          "output_type": "display_data",
          "data": {
            "text/plain": [
              "<Figure size 432x288 with 1 Axes>"
            ],
            "image/png": "[encoded data removed]"
          },
          "metadata": {}
        }
      ]
    },
    {
      "cell_type": "code",
      "source": [
        "# clean age\n",
        "\n",
        "# remove negative values from age\n",
        "df_cleaned['binned_age'] = df_cleaned['Age'].apply(abs)\n",
        "\n",
        "# select rows where the 'Age' column is greater than or equal to 120 or less than 1\n",
        "df_selected = df_cleaned.loc[(df_cleaned['binned_age'] >= 120) | (df_cleaned['binned_age'] < 5)]\n",
        "\n",
        "# drop the selected rows\n",
        "df_cleaned = df_cleaned.drop(df_selected.index)\n",
        "\n",
        "df_cleaned['binned_age'].describe()\n",
        "\n",
        "# create bins for the 'Age' column\n",
        "bins = [0, 14, 24, 64, 121]\n",
        "labels = ['child', 'youth', 'adult', 'senior']\n",
        "\n",
        "# use the pandas.cut() function to create the bins\n",
        "df_cleaned['binned_age'] = pd.cut(df_cleaned['binned_age'], bins, labels=labels)\n",
        "\n",
        "# convert the 'Age_bins' column to a string data type (MIGHT BE THE PROBLEM --> SAME GOES FOR the last feature)\n",
        "df_cleaned['binned_age'] = df_cleaned['binned_age'].astype(str)\n",
        "\n",
        "#remove rows with empty cells\n",
        "df_cleaned.dropna(inplace=True)\n",
        "\n",
        "sns.countplot(x='binned_age', data=df_cleaned)\n"
      ],
      "metadata": {
        "id": "Oziws3fQDAd_",
        "colab": {
          "base_uri": "https://localhost:8080/",
          "height": 303
        },
        "outputId": "302ac9cf-1f3d-486b-cd90-5a43a0fd0cca"
      },
      "execution_count": null,
      "outputs": [
        {
          "output_type": "execute_result",
          "data": {
            "text/plain": [
              "<matplotlib.axes._subplots.AxesSubplot at 0x7fad517378b0>"
            ]
          },
          "metadata": {},
          "execution_count": 28
        },
        {
          "output_type": "display_data",
          "data": {
            "text/plain": [
              "<Figure size 432x288 with 1 Axes>"
            ],
            "image/png": "[encoded data removed]"
          },
          "metadata": {}
        }
      ]
    },
    {
      "cell_type": "code",
      "source": [
        "# clean location\n",
        "\n",
        "# use regex to remove all the numbers in row 'Location'\n",
        "import re\n",
        "\n",
        "df_cleaned = df_cleaned.assign(cleaned_location=df_cleaned['Location'])\n",
        "df_cleaned['cleaned_location'] = df_cleaned['cleaned_location'].replace(re.compile(r'\\d+'), '', regex=True)\n",
        "\n",
        "#remove rows with empty cells\n",
        "df_cleaned.dropna(inplace=True)\n",
        "\n",
        "df_cleaned['cleaned_location'].value_counts()\n"
      ],
      "metadata": {
        "id": "MAe9QHXRDLyT",
        "colab": {
          "base_uri": "https://localhost:8080/"
        },
        "outputId": "39da73e9-594d-4190-89a5-749148771496"
      },
      "execution_count": null,
      "outputs": [
        {
          "output_type": "execute_result",
          "data": {
            "text/plain": [
              " E TH ST             2722\n",
              " REISTERSTOWN RD     2544\n",
              " N CHARLES ST        2308\n",
              " BELAIR RD           2211\n",
              " EASTERN AVE         2065\n",
              "                     ... \n",
              " HUGHES ST              1\n",
              " ST JOSEPH              1\n",
              " PASCAL AV              1\n",
              "RD & FLEETWOOD AV       1\n",
              " CLAYMONT               1\n",
              "Name: cleaned_location, Length: 6708, dtype: int64"
            ]
          },
          "metadata": {},
          "execution_count": 13
        }
      ]
    },
    {
      "cell_type": "code",
      "source": [
        "# District is clean\n",
        "df_cleaned['cleaned_district'] = df_cleaned['District']\n",
        "\n",
        "# Weapon is clean\n",
        "df_cleaned['cleaned_weapon'] = df_cleaned['Weapon']\n",
        "\n",
        "# Race is clean\n",
        "df_cleaned['cleaned_race'] = df_cleaned['Race']\n",
        "\n",
        "# Neighborhood is clean\n",
        "df_cleaned['cleaned_neighborhood'] = df_cleaned['Neighborhood']"
      ],
      "metadata": {
        "id": "ZQNXDvHvESZv"
      },
      "execution_count": null,
      "outputs": []
    },
    {
      "cell_type": "code",
      "source": [
        "# clean longitude and latitude \n",
        "\n",
        "import numpy as np\n",
        "\n",
        "# calculate the min and max values in the longitude column\n",
        "lon_min = df_cleaned['Longitude'].min()\n",
        "lon_max = df_cleaned['Longitude'].max()\n",
        "\n",
        "# create evenly spaced bins for the longitude values\n",
        "lon_bins = np.linspace(lon_min, lon_max, 20)\n",
        "\n",
        "# calculate the min and max values in the latitude column\n",
        "lat_min = df_cleaned['Latitude'].min()\n",
        "lat_max = df_cleaned['Latitude'].max()\n",
        "\n",
        "# create evenly spaced bins for the latitude values\n",
        "lat_bins = np.linspace(lat_min, lat_max, 20)\n",
        "\n",
        "# add the bins as new columns in the dataframe\n",
        "df_cleaned['longitude_binned'] = pd.cut(df_cleaned['Longitude'], lon_bins)\n",
        "df_cleaned['latitude_binned'] = pd.cut(df_cleaned['Latitude'], lat_bins)\n",
        "\n",
        "\n",
        "# remove empty cells\n",
        "df_cleaned = df_cleaned.dropna(subset=['longitude_binned'])\n",
        "df_cleaned = df_cleaned.dropna(subset=['latitude_binned'])\n",
        "\n",
        "#convert to strings\n",
        "df_cleaned['longitude_binned'] = df_cleaned['longitude_binned'].astype(str)\n",
        "df_cleaned['latitude_binned'] = df_cleaned['latitude_binned'].astype(str)\n",
        "\n",
        "#remove rows with empty cells\n",
        "df_cleaned.dropna(inplace=True)\n"
      ],
      "metadata": {
        "id": "6Fj5-YmcEwN9"
      },
      "execution_count": null,
      "outputs": []
    },
    {
      "cell_type": "code",
      "source": [
        "# cleaning gender\n",
        "mask = df_cleaned['Gender'].isin([\"M\", \"F\", \"Male\", \"Female\"])\n",
        "\n",
        "# remove all that are not equal to \"M\", \"F\", \"Male\", \"Female\"\n",
        "df_cleaned = df_cleaned.assign(cleaned_gender=df_cleaned['Gender'][mask])\n",
        "\n",
        "# replace all F with female and all Male with M\n",
        "df_cleaned['cleaned_gender'].replace({\"Female\": \"F\", \"Male\": \"M\"}, inplace=True)\n",
        "\n",
        "#remove rows with empty cells\n",
        "df_cleaned.dropna(inplace=True)\n",
        "\n",
        "# rotate and change the font size of the column labels\n",
        "plt.figure(figsize=(width, height))\n",
        "\n",
        "sns.countplot(x='Gender', data=df_cleaned)\n",
        "\n"
      ],
      "metadata": {
        "id": "j6P-PK2jGvPk",
        "colab": {
          "base_uri": "https://localhost:8080/",
          "height": 412
        },
        "outputId": "2afb572b-7f94-4602-a44d-2bf25de6e6c7"
      },
      "execution_count": null,
      "outputs": [
        {
          "output_type": "execute_result",
          "data": {
            "text/plain": [
              "<matplotlib.axes._subplots.AxesSubplot at 0x7f185f37e790>"
            ]
          },
          "metadata": {},
          "execution_count": 44
        },
        {
          "output_type": "display_data",
          "data": {
            "text/plain": [
              "<Figure size 1080x432 with 1 Axes>"
            ],
            "image/png": "[encoded data removed]"
          },
          "metadata": {}
        }
      ]
    },
    {
      "cell_type": "code",
      "source": [
        "# inside-outside cleaning\n",
        "\n",
        "df_cleaned = df_cleaned.assign(cleaned_inside_outside=df_cleaned['Inside_Outside'].replace({\"Inside\": \"I\", \"Outside\": \"O\"}))\n",
        "\n",
        "#remove rows with empty cells\n",
        "df_cleaned.dropna(inplace=True)\n",
        "\n",
        "sns.countplot(x='cleaned_inside_outside', data=df_cleaned)\n"
      ],
      "metadata": {
        "id": "TlQ8l6bWHKQX",
        "colab": {
          "base_uri": "https://localhost:8080/",
          "height": 303
        },
        "outputId": "bd07f082-904a-4b0e-cd09-00267d194ba9"
      },
      "execution_count": null,
      "outputs": [
        {
          "output_type": "execute_result",
          "data": {
            "text/plain": [
              "<matplotlib.axes._subplots.AxesSubplot at 0x7fad4db56880>"
            ]
          },
          "metadata": {},
          "execution_count": 32
        },
        {
          "output_type": "display_data",
          "data": {
            "text/plain": [
              "<Figure size 432x288 with 1 Axes>"
            ],
            "image/png": "[encoded data removed]"
          },
          "metadata": {}
        }
      ]
    },
    {
      "cell_type": "code",
      "source": [
        "# remove useless columns\n",
        "\n",
        "df_removed = df_cleaned.drop(columns=['Description', 'CrimeDateTime', 'District', 'Inside_Outside', 'Weapon',\n",
        "       'Gender', 'Race', 'Neighborhood', 'Latitude', 'Longitude', 'Age'])\n",
        "\n",
        "# show columns in df_cleaned\n",
        "print(df.columns)\n",
        "\n",
        "\n",
        "# show columns in df_removed\n",
        "print(df_removed.columns)"
      ],
      "metadata": {
        "colab": {
          "base_uri": "https://localhost:8080/"
        },
        "id": "NYY1xFmgE4ZP",
        "outputId": "6d7918f9-a188-4ef4-c7be-51a492ee46cd"
      },
      "execution_count": null,
      "outputs": [
        {
          "output_type": "stream",
          "name": "stdout",
          "text": [
            "Index(['X', 'Y', 'RowID', 'CrimeDateTime', 'CrimeCode', 'Location',\n",
            "       'Description', 'Inside_Outside', 'Weapon', 'Post', 'Gender', 'Age',\n",
            "       'Race', 'Ethnicity', 'District', 'Neighborhood', 'Latitude',\n",
            "       'Longitude', 'GeoLocation', 'Premise', 'VRIName', 'Total_Incidents',\n",
            "       'Shape'],\n",
            "      dtype='object')\n",
            "Index(['nv_v', 'time_of_day', 'day_of_week', 'month_of_year', 'binned_age',\n",
            "       'cleaned_district', 'cleaned_weapon', 'cleaned_race',\n",
            "       'cleaned_neighborhood', 'longitude_binned', 'latitude_binned',\n",
            "       'cleaned_gender', 'cleaned_inside_outside'],\n",
            "      dtype='object')\n"
          ]
        }
      ]
    },
    {
      "cell_type": "markdown",
      "source": [
        "Step 4 - Encoding"
      ],
      "metadata": {
        "id": "plLb3LdeGPoa"
      }
    },
    {
      "cell_type": "code",
      "source": [
        "from sklearn.preprocessing import LabelEncoder, OneHotEncoder\n",
        "\n",
        "# create a new dataframe\n",
        "df_encoded = pd.DataFrame()\n",
        "\n",
        "# create a LabelEncoder instance\n",
        "le = LabelEncoder()\n",
        "\n",
        "# label encoding\n",
        "df_encoded['cleaned_gender'] = le.fit_transform(\n",
        "    df_removed['cleaned_gender'])\n",
        "df_encoded['cleaned_inside_outside'] = le.fit_transform(\n",
        "    df_removed['cleaned_inside_outside'])\n",
        "\n",
        "# create a OneHotEncoder instance\n",
        "ohe = OneHotEncoder(handle_unknown='ignore')\n",
        "\n",
        "# one hot encoding\n",
        "df_encoded = ohe.fit_transform(df_removed[['time_of_day', \n",
        "                                           'binned_age', 'month_of_year', \n",
        "                                           'cleaned_district', 'cleaned_weapon',\n",
        "                                           'cleaned_race', 'cleaned_neighborhood', \n",
        "                                           'longitude_binned', 'latitude_binned']])\n",
        "\n",
        "\n"
      ],
      "metadata": {
        "id": "WxzwjoJ4GR_O"
      },
      "execution_count": null,
      "outputs": []
    },
    {
      "cell_type": "markdown",
      "source": [
        "Step 5 - Split Data"
      ],
      "metadata": {
        "id": "7QR-7uUIF5fK"
      }
    },
    {
      "cell_type": "code",
      "source": [
        "# Split data\n",
        "\n",
        "#define X\n",
        "X = df_encoded\n",
        "\n",
        "# define y\n",
        "y = df_removed['nv_v']\n",
        "\n",
        "# Import the train_test_split function from the sklearn.model_selection module\n",
        "from sklearn.model_selection import train_test_split\n",
        "\n",
        "# Split the data into training and test sets\n",
        "X_train, X_test, y_train, y_test = train_test_split(X, y, stratify=y, test_size=0.2, random_state=42) # stratify stratify=y\n"
      ],
      "metadata": {
        "id": "tjvuqoR-FU6V"
      },
      "execution_count": null,
      "outputs": []
    },
    {
      "cell_type": "code",
      "source": [
        "print(X.shape, y.shape)"
      ],
      "metadata": {
        "colab": {
          "base_uri": "https://localhost:8080/"
        },
        "id": "y1JvfudlbOm7",
        "outputId": "342bb8bf-ca20-409c-a488-08addce51ded"
      },
      "execution_count": null,
      "outputs": [
        {
          "output_type": "stream",
          "name": "stdout",
          "text": [
            "(295259, 372) (295259,)\n"
          ]
        }
      ]
    },
    {
      "cell_type": "markdown",
      "source": [
        "Step 5 - Tune models using GridSearchCV to optimize hyperparameters"
      ],
      "metadata": {
        "id": "OkLPrAnrMrMA"
      }
    },
    {
      "cell_type": "code",
      "source": [
        "# DecisionTreeClassifier --> DONE\n",
        "\n",
        "# Import the GridSearchCV class from the sklearn.model_selection module\n",
        "from sklearn.model_selection import GridSearchCV\n",
        "\n",
        "# Import the DecisionTreeClassifier class from the sklearn.tree module\n",
        "from sklearn.tree import DecisionTreeClassifier\n",
        "\n",
        "# Create a list of possible values for the hyperparameters\n",
        "param_grid = {\n",
        "    'max_depth': [3, 5, 7, 9],\n",
        "    'min_samples_split': [2, 3, 4, 5],\n",
        "    'criterion': ['gini', 'entropy']\n",
        "}\n",
        "\n",
        "# Create a decision tree model\n",
        "decisionTreeModel = DecisionTreeClassifier()\n",
        "\n",
        "# Use the GridSearchCV class to perform a grid search\n",
        "grid_search = GridSearchCV(decisionTreeModel, param_grid, cv=5, \n",
        "                           scoring='accuracy')\n",
        "grid_search.fit(X_train, y_train)\n",
        "\n",
        "# Print the best hyperparameters found by the grid search\n",
        "print(grid_search.best_params_)\n",
        "\n",
        "## Apply best model to the test data and output accuracy\n",
        "\n",
        "# Import the confusion_matrix function from the sklearn.metrics module\n",
        "from sklearn.metrics import classification_report, confusion_matrix\n",
        "\n",
        "# Use the predict() method to generate predictions for the test data\n",
        "DecisionTreePredictions = grid_search.predict(X_test)\n",
        "\n",
        "# output: {'criterion': 'gini', 'max_depth': 9, 'min_samples_split': 5}"
      ],
      "metadata": {
        "colab": {
          "base_uri": "https://localhost:8080/"
        },
        "id": "9sGt_takLQpb",
        "outputId": "5a4dc939-1c18-41e0-89dd-41c69fe0173a"
      },
      "execution_count": null,
      "outputs": [
        {
          "output_type": "stream",
          "name": "stdout",
          "text": [
            "{'criterion': 'gini', 'max_depth': 5, 'min_samples_split': 2}\n"
          ]
        }
      ]
    },
    {
      "cell_type": "code",
      "source": [
        "from sklearn.metrics import accuracy_score\n",
        "# Use the classification_report() function to calculate the evaluation metrics for each class\n",
        "decisionTreeCR = classification_report(y_test, DecisionTreePredictions)\n",
        "\n",
        "# Print the classification_report\n",
        "print(decisionTreeCR)\n",
        "\n",
        "# Use the confusion_matrix() function to calculate the confusion matrix\n",
        "decisionTreeCM = confusion_matrix(y_test, DecisionTreePredictions)\n",
        "\n",
        "# Print the confusion_matrix\n",
        "print(decisionTreeCM)\n",
        "\n",
        "# Use the accuracy_score() function to calculate the accuracy_score\n",
        "decisionTreeAccuracy = accuracy_score(y_test, DecisionTreePredictions)\n",
        "# Print the confusion_matrix\n",
        "print(decisionTreeAccuracy)\n",
        "\n"
      ],
      "metadata": {
        "colab": {
          "base_uri": "https://localhost:8080/"
        },
        "id": "bW1R5pxnolTm",
        "outputId": "03b5dcb7-4981-4844-976f-405855d7320a"
      },
      "execution_count": null,
      "outputs": [
        {
          "output_type": "stream",
          "name": "stdout",
          "text": [
            "              precision    recall  f1-score   support\n",
            "\n",
            " non_violent       0.75      0.93      0.83     32014\n",
            "     violent       0.89      0.64      0.74     27038\n",
            "\n",
            "    accuracy                           0.80     59052\n",
            "   macro avg       0.82      0.79      0.79     59052\n",
            "weighted avg       0.82      0.80      0.79     59052\n",
            "\n",
            "[[29912  2102]\n",
            " [ 9848 17190]]\n",
            "0.7976359818465082\n"
          ]
        }
      ]
    },
    {
      "cell_type": "code",
      "source": [
        "# RandomForestClassifier --> DONE\n",
        "\n",
        "# Import the GridSearchCV class from the sklearn.model_selection module\n",
        "from sklearn.model_selection import GridSearchCV\n",
        "\n",
        "# Import the RandomForestClassifier class from the sklearn.ensemble module\n",
        "from sklearn.ensemble import RandomForestClassifier\n",
        "\n",
        "# Create a list of possible values for the hyperparameters\n",
        "param_grid = {\n",
        "    'n_estimators': [10, 50, 100],\n",
        "    'max_depth': [3, 5, 7]\n",
        "}\n",
        "\n",
        "# Create a Random Forest model\n",
        "randomForestModel = RandomForestClassifier()\n",
        "\n",
        "# Use the GridSearchCV class to perform a grid search\n",
        "grid_search = GridSearchCV(randomForestModel, param_grid, cv=5, scoring='accuracy')\n",
        "grid_search.fit(X_train, y_train)\n",
        "\n",
        "# Print the best hyperparameters found by the grid search\n",
        "print(grid_search.best_params_)\n",
        "\n",
        "## Apply best model to the test data and output accuracy\n",
        "\n",
        "# Import the confusion_matrix function from the sklearn.metrics module\n",
        "from sklearn.metrics import classification_report, confusion_matrix\n",
        "\n",
        "# Use the predict() method to generate predictions for the test data\n",
        "randomForestPredictions = grid_search.predict(X_test)\n",
        "\n",
        "# output: {'max_depth': 7, 'n_estimators': 100}"
      ],
      "metadata": {
        "colab": {
          "base_uri": "https://localhost:8080/"
        },
        "id": "0242PuzWTgG0",
        "outputId": "1785bd47-0379-4433-a0b7-c9ab7de7c80f"
      },
      "execution_count": null,
      "outputs": [
        {
          "output_type": "stream",
          "name": "stdout",
          "text": [
            "{'max_depth': 7, 'n_estimators': 100}\n"
          ]
        }
      ]
    },
    {
      "cell_type": "code",
      "source": [
        "# Use the classification_report() function to calculate the evaluation metrics for each class\n",
        "randomForestCR = classification_report(y_test, randomForestPredictions)\n",
        "\n",
        "# Print the classification_report\n",
        "print(randomForestCR)\n",
        "\n",
        "# Use the confusion_matrix() function to calculate the confusion matrix\n",
        "randomForestCM = confusion_matrix(y_test, randomForestPredictions)\n",
        "\n",
        "# Print the confusion_matrix\n",
        "print(randomForestCM)\n",
        "\n",
        "# Use the accuracy_score() function to calculate the accuracy_score\n",
        "randomForestAccuracy = accuracy_score(y_test, randomForestPredictions)\n",
        "# Print the confusion_matrix\n",
        "print(randomForestAccuracy)\n"
      ],
      "metadata": {
        "colab": {
          "base_uri": "https://localhost:8080/"
        },
        "id": "wtHkUm_rpahU",
        "outputId": "44b30f7e-8463-4573-bd4f-209880e731d7"
      },
      "execution_count": null,
      "outputs": [
        {
          "output_type": "stream",
          "name": "stdout",
          "text": [
            "              precision    recall  f1-score   support\n",
            "\n",
            " non_violent       0.73      0.96      0.83     32014\n",
            "     violent       0.93      0.59      0.72     27038\n",
            "\n",
            "    accuracy                           0.79     59052\n",
            "   macro avg       0.83      0.78      0.78     59052\n",
            "weighted avg       0.83      0.79      0.78     59052\n",
            "\n",
            "[[30880  1134]\n",
            " [11176 15862]]\n",
            "0.7915396599607126\n"
          ]
        }
      ]
    },
    {
      "cell_type": "code",
      "source": [
        "# KNeighborsClassifier --> DONE \n",
        "\n",
        "from sklearn.model_selection import GridSearchCV\n",
        "\n",
        "# Import the KNeighborsClassifier class from the sklearn.neighbors module\n",
        "from sklearn.neighbors import KNeighborsClassifier\n",
        "\n",
        "# Create a list of possible values for the hyperparameters\n",
        "param_grid = {\n",
        "    'n_neighbors': [3, 5, 7, 9],\n",
        "}\n",
        "\n",
        "# Create a K-Nearest Neighbors model\n",
        "kNeighborsModel = KNeighborsClassifier()\n",
        "\n",
        "# Use the GridSearchCV class to perform a grid search\n",
        "grid_search = GridSearchCV(kNeighborsModel, param_grid, cv=5, scoring='accuracy')\n",
        "grid_search.fit(X_train, y_train)\n",
        "\n",
        "# Print the best hyperparameters found by the grid search\n",
        "print(grid_search.best_params_)\n",
        "\n",
        "# Use the best hyperparameters to make predictions on the test set\n",
        "predictions = grid_search.predict(X_test)\n",
        "\n",
        "## Apply best model to the test data and output accuracy\n",
        "\n",
        "# Import the confusion_matrix function from the sklearn.metrics module\n",
        "from sklearn.metrics import classification_report, confusion_matrix\n",
        "\n",
        "# Use the predict() method to generate predictions for the test data\n",
        "kNeighborsPredictions = grid_search.predict(X_test)\n",
        "\n",
        "# output: {'n_neighbors': 9, 'p': 1, 'weights': 'distance'}"
      ],
      "metadata": {
        "id": "JHDS-PfKPX-f",
        "colab": {
          "base_uri": "https://localhost:8080/",
          "height": 425
        },
        "outputId": "2d3e9558-314e-47d2-fc9d-744a92f6e576"
      },
      "execution_count": null,
      "outputs": [
        {
          "output_type": "error",
          "ename": "KeyboardInterrupt",
          "evalue": "ignored",
          "traceback": [
            "\u001b[0;31m---------------------------------------------------------------------------\u001b[0m",
            "\u001b[0;31mKeyboardInterrupt\u001b[0m                         Traceback (most recent call last)",
            "\u001b[0;32m<ipython-input-43-9cb7024095a7>\u001b[0m in \u001b[0;36m<module>\u001b[0;34m\u001b[0m\n\u001b[1;32m     18\u001b[0m \u001b[0;31m# Use the GridSearchCV class to perform a grid search\u001b[0m\u001b[0;34m\u001b[0m\u001b[0;34m\u001b[0m\u001b[0;34m\u001b[0m\u001b[0m\n\u001b[1;32m     19\u001b[0m \u001b[0mgrid_search\u001b[0m \u001b[0;34m=\u001b[0m \u001b[0mGridSearchCV\u001b[0m\u001b[0;34m(\u001b[0m\u001b[0mkNeighborsModel\u001b[0m\u001b[0;34m,\u001b[0m \u001b[0mparam_grid\u001b[0m\u001b[0;34m,\u001b[0m \u001b[0mcv\u001b[0m\u001b[0;34m=\u001b[0m\u001b[0;36m5\u001b[0m\u001b[0;34m,\u001b[0m \u001b[0mscoring\u001b[0m\u001b[0;34m=\u001b[0m\u001b[0;34m'accuracy'\u001b[0m\u001b[0;34m)\u001b[0m\u001b[0;34m\u001b[0m\u001b[0;34m\u001b[0m\u001b[0m\n\u001b[0;32m---> 20\u001b[0;31m \u001b[0mgrid_search\u001b[0m\u001b[0;34m.\u001b[0m\u001b[0mfit\u001b[0m\u001b[0;34m(\u001b[0m\u001b[0mX_train\u001b[0m\u001b[0;34m,\u001b[0m \u001b[0my_train\u001b[0m\u001b[0;34m)\u001b[0m\u001b[0;34m\u001b[0m\u001b[0;34m\u001b[0m\u001b[0m\n\u001b[0m\u001b[1;32m     21\u001b[0m \u001b[0;34m\u001b[0m\u001b[0m\n\u001b[1;32m     22\u001b[0m \u001b[0;31m# Print the best hyperparameters found by the grid search\u001b[0m\u001b[0;34m\u001b[0m\u001b[0;34m\u001b[0m\u001b[0;34m\u001b[0m\u001b[0m\n",
            "\u001b[0;32m/usr/local/lib/python3.8/dist-packages/sklearn/model_selection/_search.py\u001b[0m in \u001b[0;36mfit\u001b[0;34m(self, X, y, groups, **fit_params)\u001b[0m\n\u001b[1;32m    889\u001b[0m                 \u001b[0;32mreturn\u001b[0m \u001b[0mresults\u001b[0m\u001b[0;34m\u001b[0m\u001b[0;34m\u001b[0m\u001b[0m\n\u001b[1;32m    890\u001b[0m \u001b[0;34m\u001b[0m\u001b[0m\n\u001b[0;32m--> 891\u001b[0;31m             \u001b[0mself\u001b[0m\u001b[0;34m.\u001b[0m\u001b[0m_run_search\u001b[0m\u001b[0;34m(\u001b[0m\u001b[0mevaluate_candidates\u001b[0m\u001b[0;34m)\u001b[0m\u001b[0;34m\u001b[0m\u001b[0;34m\u001b[0m\u001b[0m\n\u001b[0m\u001b[1;32m    892\u001b[0m \u001b[0;34m\u001b[0m\u001b[0m\n\u001b[1;32m    893\u001b[0m             \u001b[0;31m# multimetric is determined here because in the case of a callable\u001b[0m\u001b[0;34m\u001b[0m\u001b[0;34m\u001b[0m\u001b[0;34m\u001b[0m\u001b[0m\n",
            "\u001b[0;32m/usr/local/lib/python3.8/dist-packages/sklearn/model_selection/_search.py\u001b[0m in \u001b[0;36m_run_search\u001b[0;34m(self, evaluate_candidates)\u001b[0m\n\u001b[1;32m   1390\u001b[0m     \u001b[0;32mdef\u001b[0m \u001b[0m_run_search\u001b[0m\u001b[0;34m(\u001b[0m\u001b[0mself\u001b[0m\u001b[0;34m,\u001b[0m \u001b[0mevaluate_candidates\u001b[0m\u001b[0;34m)\u001b[0m\u001b[0;34m:\u001b[0m\u001b[0;34m\u001b[0m\u001b[0;34m\u001b[0m\u001b[0m\n\u001b[1;32m   1391\u001b[0m         \u001b[0;34m\"\"\"Search all candidates in param_grid\"\"\"\u001b[0m\u001b[0;34m\u001b[0m\u001b[0;34m\u001b[0m\u001b[0m\n\u001b[0;32m-> 1392\u001b[0;31m         \u001b[0mevaluate_candidates\u001b[0m\u001b[0;34m(\u001b[0m\u001b[0mParameterGrid\u001b[0m\u001b[0;34m(\u001b[0m\u001b[0mself\u001b[0m\u001b[0;34m.\u001b[0m\u001b[0mparam_grid\u001b[0m\u001b[0;34m)\u001b[0m\u001b[0;34m)\u001b[0m\u001b[0;34m\u001b[0m\u001b[0;34m\u001b[0m\u001b[0m\n\u001b[0m\u001b[1;32m   1393\u001b[0m \u001b[0;34m\u001b[0m\u001b[0m\n\u001b[1;32m   1394\u001b[0m \u001b[0;34m\u001b[0m\u001b[0m\n",
            "\u001b[0;32m/usr/local/lib/python3.8/dist-packages/sklearn/model_selection/_search.py\u001b[0m in \u001b[0;36mevaluate_candidates\u001b[0;34m(candidate_params, cv, more_results)\u001b[0m\n\u001b[1;32m    836\u001b[0m                     )\n\u001b[1;32m    837\u001b[0m \u001b[0;34m\u001b[0m\u001b[0m\n\u001b[0;32m--> 838\u001b[0;31m                 out = parallel(\n\u001b[0m\u001b[1;32m    839\u001b[0m                     delayed(_fit_and_score)(\n\u001b[1;32m    840\u001b[0m                         \u001b[0mclone\u001b[0m\u001b[0;34m(\u001b[0m\u001b[0mbase_estimator\u001b[0m\u001b[0;34m)\u001b[0m\u001b[0;34m,\u001b[0m\u001b[0;34m\u001b[0m\u001b[0;34m\u001b[0m\u001b[0m\n",
            "\u001b[0;32m/usr/local/lib/python3.8/dist-packages/joblib/parallel.py\u001b[0m in \u001b[0;36m__call__\u001b[0;34m(self, iterable)\u001b[0m\n\u001b[1;32m   1086\u001b[0m                 \u001b[0mself\u001b[0m\u001b[0;34m.\u001b[0m\u001b[0m_iterating\u001b[0m \u001b[0;34m=\u001b[0m \u001b[0mself\u001b[0m\u001b[0;34m.\u001b[0m\u001b[0m_original_iterator\u001b[0m \u001b[0;32mis\u001b[0m \u001b[0;32mnot\u001b[0m \u001b[0;32mNone\u001b[0m\u001b[0;34m\u001b[0m\u001b[0;34m\u001b[0m\u001b[0m\n\u001b[1;32m   1087\u001b[0m \u001b[0;34m\u001b[0m\u001b[0m\n\u001b[0;32m-> 1088\u001b[0;31m             \u001b[0;32mwhile\u001b[0m \u001b[0mself\u001b[0m\u001b[0;34m.\u001b[0m\u001b[0mdispatch_one_batch\u001b[0m\u001b[0;34m(\u001b[0m\u001b[0miterator\u001b[0m\u001b[0;34m)\u001b[0m\u001b[0;34m:\u001b[0m\u001b[0;34m\u001b[0m\u001b[0;34m\u001b[0m\u001b[0m\n\u001b[0m\u001b[1;32m   1089\u001b[0m                 \u001b[0;32mpass\u001b[0m\u001b[0;34m\u001b[0m\u001b[0;34m\u001b[0m\u001b[0m\n\u001b[1;32m   1090\u001b[0m \u001b[0;34m\u001b[0m\u001b[0m\n",
            "\u001b[0;32m/usr/local/lib/python3.8/dist-packages/joblib/parallel.py\u001b[0m in \u001b[0;36mdispatch_one_batch\u001b[0;34m(self, iterator)\u001b[0m\n\u001b[1;32m    899\u001b[0m                 \u001b[0;32mreturn\u001b[0m \u001b[0;32mFalse\u001b[0m\u001b[0;34m\u001b[0m\u001b[0;34m\u001b[0m\u001b[0m\n\u001b[1;32m    900\u001b[0m             \u001b[0;32melse\u001b[0m\u001b[0;34m:\u001b[0m\u001b[0;34m\u001b[0m\u001b[0;34m\u001b[0m\u001b[0m\n\u001b[0;32m--> 901\u001b[0;31m                 \u001b[0mself\u001b[0m\u001b[0;34m.\u001b[0m\u001b[0m_dispatch\u001b[0m\u001b[0;34m(\u001b[0m\u001b[0mtasks\u001b[0m\u001b[0;34m)\u001b[0m\u001b[0;34m\u001b[0m\u001b[0;34m\u001b[0m\u001b[0m\n\u001b[0m\u001b[1;32m    902\u001b[0m                 \u001b[0;32mreturn\u001b[0m \u001b[0;32mTrue\u001b[0m\u001b[0;34m\u001b[0m\u001b[0;34m\u001b[0m\u001b[0m\n\u001b[1;32m    903\u001b[0m \u001b[0;34m\u001b[0m\u001b[0m\n",
            "\u001b[0;32m/usr/local/lib/python3.8/dist-packages/joblib/parallel.py\u001b[0m in \u001b[0;36m_dispatch\u001b[0;34m(self, batch)\u001b[0m\n\u001b[1;32m    817\u001b[0m         \u001b[0;32mwith\u001b[0m \u001b[0mself\u001b[0m\u001b[0;34m.\u001b[0m\u001b[0m_lock\u001b[0m\u001b[0;34m:\u001b[0m\u001b[0;34m\u001b[0m\u001b[0;34m\u001b[0m\u001b[0m\n\u001b[1;32m    818\u001b[0m             \u001b[0mjob_idx\u001b[0m \u001b[0;34m=\u001b[0m \u001b[0mlen\u001b[0m\u001b[0;34m(\u001b[0m\u001b[0mself\u001b[0m\u001b[0;34m.\u001b[0m\u001b[0m_jobs\u001b[0m\u001b[0;34m)\u001b[0m\u001b[0;34m\u001b[0m\u001b[0;34m\u001b[0m\u001b[0m\n\u001b[0;32m--> 819\u001b[0;31m             \u001b[0mjob\u001b[0m \u001b[0;34m=\u001b[0m \u001b[0mself\u001b[0m\u001b[0;34m.\u001b[0m\u001b[0m_backend\u001b[0m\u001b[0;34m.\u001b[0m\u001b[0mapply_async\u001b[0m\u001b[0;34m(\u001b[0m\u001b[0mbatch\u001b[0m\u001b[0;34m,\u001b[0m \u001b[0mcallback\u001b[0m\u001b[0;34m=\u001b[0m\u001b[0mcb\u001b[0m\u001b[0;34m)\u001b[0m\u001b[0;34m\u001b[0m\u001b[0;34m\u001b[0m\u001b[0m\n\u001b[0m\u001b[1;32m    820\u001b[0m             \u001b[0;31m# A job can complete so quickly than its callback is\u001b[0m\u001b[0;34m\u001b[0m\u001b[0;34m\u001b[0m\u001b[0;34m\u001b[0m\u001b[0m\n\u001b[1;32m    821\u001b[0m             \u001b[0;31m# called before we get here, causing self._jobs to\u001b[0m\u001b[0;34m\u001b[0m\u001b[0;34m\u001b[0m\u001b[0;34m\u001b[0m\u001b[0m\n",
            "\u001b[0;32m/usr/local/lib/python3.8/dist-packages/joblib/_parallel_backends.py\u001b[0m in \u001b[0;36mapply_async\u001b[0;34m(self, func, callback)\u001b[0m\n\u001b[1;32m    206\u001b[0m     \u001b[0;32mdef\u001b[0m \u001b[0mapply_async\u001b[0m\u001b[0;34m(\u001b[0m\u001b[0mself\u001b[0m\u001b[0;34m,\u001b[0m \u001b[0mfunc\u001b[0m\u001b[0;34m,\u001b[0m \u001b[0mcallback\u001b[0m\u001b[0;34m=\u001b[0m\u001b[0;32mNone\u001b[0m\u001b[0;34m)\u001b[0m\u001b[0;34m:\u001b[0m\u001b[0;34m\u001b[0m\u001b[0;34m\u001b[0m\u001b[0m\n\u001b[1;32m    207\u001b[0m         \u001b[0;34m\"\"\"Schedule a func to be run\"\"\"\u001b[0m\u001b[0;34m\u001b[0m\u001b[0;34m\u001b[0m\u001b[0m\n\u001b[0;32m--> 208\u001b[0;31m         \u001b[0mresult\u001b[0m \u001b[0;34m=\u001b[0m \u001b[0mImmediateResult\u001b[0m\u001b[0;34m(\u001b[0m\u001b[0mfunc\u001b[0m\u001b[0;34m)\u001b[0m\u001b[0;34m\u001b[0m\u001b[0;34m\u001b[0m\u001b[0m\n\u001b[0m\u001b[1;32m    209\u001b[0m         \u001b[0;32mif\u001b[0m \u001b[0mcallback\u001b[0m\u001b[0;34m:\u001b[0m\u001b[0;34m\u001b[0m\u001b[0;34m\u001b[0m\u001b[0m\n\u001b[1;32m    210\u001b[0m             \u001b[0mcallback\u001b[0m\u001b[0;34m(\u001b[0m\u001b[0mresult\u001b[0m\u001b[0;34m)\u001b[0m\u001b[0;34m\u001b[0m\u001b[0;34m\u001b[0m\u001b[0m\n",
            "\u001b[0;32m/usr/local/lib/python3.8/dist-packages/joblib/_parallel_backends.py\u001b[0m in \u001b[0;36m__init__\u001b[0;34m(self, batch)\u001b[0m\n\u001b[1;32m    595\u001b[0m         \u001b[0;31m# Don't delay the application, to avoid keeping the input\u001b[0m\u001b[0;34m\u001b[0m\u001b[0;34m\u001b[0m\u001b[0;34m\u001b[0m\u001b[0m\n\u001b[1;32m    596\u001b[0m         \u001b[0;31m# arguments in memory\u001b[0m\u001b[0;34m\u001b[0m\u001b[0;34m\u001b[0m\u001b[0;34m\u001b[0m\u001b[0m\n\u001b[0;32m--> 597\u001b[0;31m         \u001b[0mself\u001b[0m\u001b[0;34m.\u001b[0m\u001b[0mresults\u001b[0m \u001b[0;34m=\u001b[0m \u001b[0mbatch\u001b[0m\u001b[0;34m(\u001b[0m\u001b[0;34m)\u001b[0m\u001b[0;34m\u001b[0m\u001b[0;34m\u001b[0m\u001b[0m\n\u001b[0m\u001b[1;32m    598\u001b[0m \u001b[0;34m\u001b[0m\u001b[0m\n\u001b[1;32m    599\u001b[0m     \u001b[0;32mdef\u001b[0m \u001b[0mget\u001b[0m\u001b[0;34m(\u001b[0m\u001b[0mself\u001b[0m\u001b[0;34m)\u001b[0m\u001b[0;34m:\u001b[0m\u001b[0;34m\u001b[0m\u001b[0;34m\u001b[0m\u001b[0m\n",
            "\u001b[0;32m/usr/local/lib/python3.8/dist-packages/joblib/parallel.py\u001b[0m in \u001b[0;36m__call__\u001b[0;34m(self)\u001b[0m\n\u001b[1;32m    286\u001b[0m         \u001b[0;31m# change the default number of processes to -1\u001b[0m\u001b[0;34m\u001b[0m\u001b[0;34m\u001b[0m\u001b[0;34m\u001b[0m\u001b[0m\n\u001b[1;32m    287\u001b[0m         \u001b[0;32mwith\u001b[0m \u001b[0mparallel_backend\u001b[0m\u001b[0;34m(\u001b[0m\u001b[0mself\u001b[0m\u001b[0;34m.\u001b[0m\u001b[0m_backend\u001b[0m\u001b[0;34m,\u001b[0m \u001b[0mn_jobs\u001b[0m\u001b[0;34m=\u001b[0m\u001b[0mself\u001b[0m\u001b[0;34m.\u001b[0m\u001b[0m_n_jobs\u001b[0m\u001b[0;34m)\u001b[0m\u001b[0;34m:\u001b[0m\u001b[0;34m\u001b[0m\u001b[0;34m\u001b[0m\u001b[0m\n\u001b[0;32m--> 288\u001b[0;31m             return [func(*args, **kwargs)\n\u001b[0m\u001b[1;32m    289\u001b[0m                     for func, args, kwargs in self.items]\n\u001b[1;32m    290\u001b[0m \u001b[0;34m\u001b[0m\u001b[0m\n",
            "\u001b[0;32m/usr/local/lib/python3.8/dist-packages/joblib/parallel.py\u001b[0m in \u001b[0;36m<listcomp>\u001b[0;34m(.0)\u001b[0m\n\u001b[1;32m    286\u001b[0m         \u001b[0;31m# change the default number of processes to -1\u001b[0m\u001b[0;34m\u001b[0m\u001b[0;34m\u001b[0m\u001b[0;34m\u001b[0m\u001b[0m\n\u001b[1;32m    287\u001b[0m         \u001b[0;32mwith\u001b[0m \u001b[0mparallel_backend\u001b[0m\u001b[0;34m(\u001b[0m\u001b[0mself\u001b[0m\u001b[0;34m.\u001b[0m\u001b[0m_backend\u001b[0m\u001b[0;34m,\u001b[0m \u001b[0mn_jobs\u001b[0m\u001b[0;34m=\u001b[0m\u001b[0mself\u001b[0m\u001b[0;34m.\u001b[0m\u001b[0m_n_jobs\u001b[0m\u001b[0;34m)\u001b[0m\u001b[0;34m:\u001b[0m\u001b[0;34m\u001b[0m\u001b[0;34m\u001b[0m\u001b[0m\n\u001b[0;32m--> 288\u001b[0;31m             return [func(*args, **kwargs)\n\u001b[0m\u001b[1;32m    289\u001b[0m                     for func, args, kwargs in self.items]\n\u001b[1;32m    290\u001b[0m \u001b[0;34m\u001b[0m\u001b[0m\n",
            "\u001b[0;32m/usr/local/lib/python3.8/dist-packages/sklearn/utils/fixes.py\u001b[0m in \u001b[0;36m__call__\u001b[0;34m(self, *args, **kwargs)\u001b[0m\n\u001b[1;32m    214\u001b[0m     \u001b[0;32mdef\u001b[0m \u001b[0m__call__\u001b[0m\u001b[0;34m(\u001b[0m\u001b[0mself\u001b[0m\u001b[0;34m,\u001b[0m \u001b[0;34m*\u001b[0m\u001b[0margs\u001b[0m\u001b[0;34m,\u001b[0m \u001b[0;34m**\u001b[0m\u001b[0mkwargs\u001b[0m\u001b[0;34m)\u001b[0m\u001b[0;34m:\u001b[0m\u001b[0;34m\u001b[0m\u001b[0;34m\u001b[0m\u001b[0m\n\u001b[1;32m    215\u001b[0m         \u001b[0;32mwith\u001b[0m \u001b[0mconfig_context\u001b[0m\u001b[0;34m(\u001b[0m\u001b[0;34m**\u001b[0m\u001b[0mself\u001b[0m\u001b[0;34m.\u001b[0m\u001b[0mconfig\u001b[0m\u001b[0;34m)\u001b[0m\u001b[0;34m:\u001b[0m\u001b[0;34m\u001b[0m\u001b[0;34m\u001b[0m\u001b[0m\n\u001b[0;32m--> 216\u001b[0;31m             \u001b[0;32mreturn\u001b[0m \u001b[0mself\u001b[0m\u001b[0;34m.\u001b[0m\u001b[0mfunction\u001b[0m\u001b[0;34m(\u001b[0m\u001b[0;34m*\u001b[0m\u001b[0margs\u001b[0m\u001b[0;34m,\u001b[0m \u001b[0;34m**\u001b[0m\u001b[0mkwargs\u001b[0m\u001b[0;34m)\u001b[0m\u001b[0;34m\u001b[0m\u001b[0;34m\u001b[0m\u001b[0m\n\u001b[0m\u001b[1;32m    217\u001b[0m \u001b[0;34m\u001b[0m\u001b[0m\n\u001b[1;32m    218\u001b[0m \u001b[0;34m\u001b[0m\u001b[0m\n",
            "\u001b[0;32m/usr/local/lib/python3.8/dist-packages/sklearn/model_selection/_validation.py\u001b[0m in \u001b[0;36m_fit_and_score\u001b[0;34m(estimator, X, y, scorer, train, test, verbose, parameters, fit_params, return_train_score, return_parameters, return_n_test_samples, return_times, return_estimator, split_progress, candidate_progress, error_score)\u001b[0m\n\u001b[1;32m    700\u001b[0m \u001b[0;34m\u001b[0m\u001b[0m\n\u001b[1;32m    701\u001b[0m         \u001b[0mfit_time\u001b[0m \u001b[0;34m=\u001b[0m \u001b[0mtime\u001b[0m\u001b[0;34m.\u001b[0m\u001b[0mtime\u001b[0m\u001b[0;34m(\u001b[0m\u001b[0;34m)\u001b[0m \u001b[0;34m-\u001b[0m \u001b[0mstart_time\u001b[0m\u001b[0;34m\u001b[0m\u001b[0;34m\u001b[0m\u001b[0m\n\u001b[0;32m--> 702\u001b[0;31m         \u001b[0mtest_scores\u001b[0m \u001b[0;34m=\u001b[0m \u001b[0m_score\u001b[0m\u001b[0;34m(\u001b[0m\u001b[0mestimator\u001b[0m\u001b[0;34m,\u001b[0m \u001b[0mX_test\u001b[0m\u001b[0;34m,\u001b[0m \u001b[0my_test\u001b[0m\u001b[0;34m,\u001b[0m \u001b[0mscorer\u001b[0m\u001b[0;34m,\u001b[0m \u001b[0merror_score\u001b[0m\u001b[0;34m)\u001b[0m\u001b[0;34m\u001b[0m\u001b[0;34m\u001b[0m\u001b[0m\n\u001b[0m\u001b[1;32m    703\u001b[0m         \u001b[0mscore_time\u001b[0m \u001b[0;34m=\u001b[0m \u001b[0mtime\u001b[0m\u001b[0;34m.\u001b[0m\u001b[0mtime\u001b[0m\u001b[0;34m(\u001b[0m\u001b[0;34m)\u001b[0m \u001b[0;34m-\u001b[0m \u001b[0mstart_time\u001b[0m \u001b[0;34m-\u001b[0m \u001b[0mfit_time\u001b[0m\u001b[0;34m\u001b[0m\u001b[0;34m\u001b[0m\u001b[0m\n\u001b[1;32m    704\u001b[0m         \u001b[0;32mif\u001b[0m \u001b[0mreturn_train_score\u001b[0m\u001b[0;34m:\u001b[0m\u001b[0;34m\u001b[0m\u001b[0;34m\u001b[0m\u001b[0m\n",
            "\u001b[0;32m/usr/local/lib/python3.8/dist-packages/sklearn/model_selection/_validation.py\u001b[0m in \u001b[0;36m_score\u001b[0;34m(estimator, X_test, y_test, scorer, error_score)\u001b[0m\n\u001b[1;32m    759\u001b[0m             \u001b[0mscores\u001b[0m \u001b[0;34m=\u001b[0m \u001b[0mscorer\u001b[0m\u001b[0;34m(\u001b[0m\u001b[0mestimator\u001b[0m\u001b[0;34m,\u001b[0m \u001b[0mX_test\u001b[0m\u001b[0;34m)\u001b[0m\u001b[0;34m\u001b[0m\u001b[0;34m\u001b[0m\u001b[0m\n\u001b[1;32m    760\u001b[0m         \u001b[0;32melse\u001b[0m\u001b[0;34m:\u001b[0m\u001b[0;34m\u001b[0m\u001b[0;34m\u001b[0m\u001b[0m\n\u001b[0;32m--> 761\u001b[0;31m             \u001b[0mscores\u001b[0m \u001b[0;34m=\u001b[0m \u001b[0mscorer\u001b[0m\u001b[0;34m(\u001b[0m\u001b[0mestimator\u001b[0m\u001b[0;34m,\u001b[0m \u001b[0mX_test\u001b[0m\u001b[0;34m,\u001b[0m \u001b[0my_test\u001b[0m\u001b[0;34m)\u001b[0m\u001b[0;34m\u001b[0m\u001b[0;34m\u001b[0m\u001b[0m\n\u001b[0m\u001b[1;32m    762\u001b[0m     \u001b[0;32mexcept\u001b[0m \u001b[0mException\u001b[0m\u001b[0;34m:\u001b[0m\u001b[0;34m\u001b[0m\u001b[0;34m\u001b[0m\u001b[0m\n\u001b[1;32m    763\u001b[0m         \u001b[0;32mif\u001b[0m \u001b[0merror_score\u001b[0m \u001b[0;34m==\u001b[0m \u001b[0;34m\"raise\"\u001b[0m\u001b[0;34m:\u001b[0m\u001b[0;34m\u001b[0m\u001b[0;34m\u001b[0m\u001b[0m\n",
            "\u001b[0;32m/usr/local/lib/python3.8/dist-packages/sklearn/metrics/_scorer.py\u001b[0m in \u001b[0;36m__call__\u001b[0;34m(self, estimator, X, y_true, sample_weight)\u001b[0m\n\u001b[1;32m    214\u001b[0m             \u001b[0mScore\u001b[0m \u001b[0mfunction\u001b[0m \u001b[0mapplied\u001b[0m \u001b[0mto\u001b[0m \u001b[0mprediction\u001b[0m \u001b[0mof\u001b[0m \u001b[0mestimator\u001b[0m \u001b[0mon\u001b[0m \u001b[0mX\u001b[0m\u001b[0;34m.\u001b[0m\u001b[0;34m\u001b[0m\u001b[0;34m\u001b[0m\u001b[0m\n\u001b[1;32m    215\u001b[0m         \"\"\"\n\u001b[0;32m--> 216\u001b[0;31m         return self._score(\n\u001b[0m\u001b[1;32m    217\u001b[0m             \u001b[0mpartial\u001b[0m\u001b[0;34m(\u001b[0m\u001b[0m_cached_call\u001b[0m\u001b[0;34m,\u001b[0m \u001b[0;32mNone\u001b[0m\u001b[0;34m)\u001b[0m\u001b[0;34m,\u001b[0m\u001b[0;34m\u001b[0m\u001b[0;34m\u001b[0m\u001b[0m\n\u001b[1;32m    218\u001b[0m             \u001b[0mestimator\u001b[0m\u001b[0;34m,\u001b[0m\u001b[0;34m\u001b[0m\u001b[0;34m\u001b[0m\u001b[0m\n",
            "\u001b[0;32m/usr/local/lib/python3.8/dist-packages/sklearn/metrics/_scorer.py\u001b[0m in \u001b[0;36m_score\u001b[0;34m(self, method_caller, estimator, X, y_true, sample_weight)\u001b[0m\n\u001b[1;32m    256\u001b[0m         \"\"\"\n\u001b[1;32m    257\u001b[0m \u001b[0;34m\u001b[0m\u001b[0m\n\u001b[0;32m--> 258\u001b[0;31m         \u001b[0my_pred\u001b[0m \u001b[0;34m=\u001b[0m \u001b[0mmethod_caller\u001b[0m\u001b[0;34m(\u001b[0m\u001b[0mestimator\u001b[0m\u001b[0;34m,\u001b[0m \u001b[0;34m\"predict\"\u001b[0m\u001b[0;34m,\u001b[0m \u001b[0mX\u001b[0m\u001b[0;34m)\u001b[0m\u001b[0;34m\u001b[0m\u001b[0;34m\u001b[0m\u001b[0m\n\u001b[0m\u001b[1;32m    259\u001b[0m         \u001b[0;32mif\u001b[0m \u001b[0msample_weight\u001b[0m \u001b[0;32mis\u001b[0m \u001b[0;32mnot\u001b[0m \u001b[0;32mNone\u001b[0m\u001b[0;34m:\u001b[0m\u001b[0;34m\u001b[0m\u001b[0;34m\u001b[0m\u001b[0m\n\u001b[1;32m    260\u001b[0m             return self._sign * self._score_func(\n",
            "\u001b[0;32m/usr/local/lib/python3.8/dist-packages/sklearn/metrics/_scorer.py\u001b[0m in \u001b[0;36m_cached_call\u001b[0;34m(cache, estimator, method, *args, **kwargs)\u001b[0m\n\u001b[1;32m     66\u001b[0m     \u001b[0;34m\"\"\"Call estimator with method and args and kwargs.\"\"\"\u001b[0m\u001b[0;34m\u001b[0m\u001b[0;34m\u001b[0m\u001b[0m\n\u001b[1;32m     67\u001b[0m     \u001b[0;32mif\u001b[0m \u001b[0mcache\u001b[0m \u001b[0;32mis\u001b[0m \u001b[0;32mNone\u001b[0m\u001b[0;34m:\u001b[0m\u001b[0;34m\u001b[0m\u001b[0;34m\u001b[0m\u001b[0m\n\u001b[0;32m---> 68\u001b[0;31m         \u001b[0;32mreturn\u001b[0m \u001b[0mgetattr\u001b[0m\u001b[0;34m(\u001b[0m\u001b[0mestimator\u001b[0m\u001b[0;34m,\u001b[0m \u001b[0mmethod\u001b[0m\u001b[0;34m)\u001b[0m\u001b[0;34m(\u001b[0m\u001b[0;34m*\u001b[0m\u001b[0margs\u001b[0m\u001b[0;34m,\u001b[0m \u001b[0;34m**\u001b[0m\u001b[0mkwargs\u001b[0m\u001b[0;34m)\u001b[0m\u001b[0;34m\u001b[0m\u001b[0;34m\u001b[0m\u001b[0m\n\u001b[0m\u001b[1;32m     69\u001b[0m \u001b[0;34m\u001b[0m\u001b[0m\n\u001b[1;32m     70\u001b[0m     \u001b[0;32mtry\u001b[0m\u001b[0;34m:\u001b[0m\u001b[0;34m\u001b[0m\u001b[0;34m\u001b[0m\u001b[0m\n",
            "\u001b[0;32m/usr/local/lib/python3.8/dist-packages/sklearn/neighbors/_classification.py\u001b[0m in \u001b[0;36mpredict\u001b[0;34m(self, X)\u001b[0m\n\u001b[1;32m    212\u001b[0m             \u001b[0mClass\u001b[0m \u001b[0mlabels\u001b[0m \u001b[0;32mfor\u001b[0m \u001b[0meach\u001b[0m \u001b[0mdata\u001b[0m \u001b[0msample\u001b[0m\u001b[0;34m.\u001b[0m\u001b[0;34m\u001b[0m\u001b[0;34m\u001b[0m\u001b[0m\n\u001b[1;32m    213\u001b[0m         \"\"\"\n\u001b[0;32m--> 214\u001b[0;31m         \u001b[0mneigh_dist\u001b[0m\u001b[0;34m,\u001b[0m \u001b[0mneigh_ind\u001b[0m \u001b[0;34m=\u001b[0m \u001b[0mself\u001b[0m\u001b[0;34m.\u001b[0m\u001b[0mkneighbors\u001b[0m\u001b[0;34m(\u001b[0m\u001b[0mX\u001b[0m\u001b[0;34m)\u001b[0m\u001b[0;34m\u001b[0m\u001b[0;34m\u001b[0m\u001b[0m\n\u001b[0m\u001b[1;32m    215\u001b[0m         \u001b[0mclasses_\u001b[0m \u001b[0;34m=\u001b[0m \u001b[0mself\u001b[0m\u001b[0;34m.\u001b[0m\u001b[0mclasses_\u001b[0m\u001b[0;34m\u001b[0m\u001b[0;34m\u001b[0m\u001b[0m\n\u001b[1;32m    216\u001b[0m         \u001b[0m_y\u001b[0m \u001b[0;34m=\u001b[0m \u001b[0mself\u001b[0m\u001b[0;34m.\u001b[0m\u001b[0m_y\u001b[0m\u001b[0;34m\u001b[0m\u001b[0;34m\u001b[0m\u001b[0m\n",
            "\u001b[0;32m/usr/local/lib/python3.8/dist-packages/sklearn/neighbors/_base.py\u001b[0m in \u001b[0;36mkneighbors\u001b[0;34m(self, X, n_neighbors, return_distance)\u001b[0m\n\u001b[1;32m    750\u001b[0m                 \u001b[0mkwds\u001b[0m \u001b[0;34m=\u001b[0m \u001b[0mself\u001b[0m\u001b[0;34m.\u001b[0m\u001b[0meffective_metric_params_\u001b[0m\u001b[0;34m\u001b[0m\u001b[0;34m\u001b[0m\u001b[0m\n\u001b[1;32m    751\u001b[0m \u001b[0;34m\u001b[0m\u001b[0m\n\u001b[0;32m--> 752\u001b[0;31m             chunked_results = list(\n\u001b[0m\u001b[1;32m    753\u001b[0m                 pairwise_distances_chunked(\n\u001b[1;32m    754\u001b[0m                     \u001b[0mX\u001b[0m\u001b[0;34m,\u001b[0m\u001b[0;34m\u001b[0m\u001b[0;34m\u001b[0m\u001b[0m\n",
            "\u001b[0;32m/usr/local/lib/python3.8/dist-packages/sklearn/metrics/pairwise.py\u001b[0m in \u001b[0;36mpairwise_distances_chunked\u001b[0;34m(X, Y, reduce_func, metric, n_jobs, working_memory, **kwds)\u001b[0m\n\u001b[1;32m   1724\u001b[0m         \u001b[0;32mif\u001b[0m \u001b[0mreduce_func\u001b[0m \u001b[0;32mis\u001b[0m \u001b[0;32mnot\u001b[0m \u001b[0;32mNone\u001b[0m\u001b[0;34m:\u001b[0m\u001b[0;34m\u001b[0m\u001b[0;34m\u001b[0m\u001b[0m\n\u001b[1;32m   1725\u001b[0m             \u001b[0mchunk_size\u001b[0m \u001b[0;34m=\u001b[0m \u001b[0mD_chunk\u001b[0m\u001b[0;34m.\u001b[0m\u001b[0mshape\u001b[0m\u001b[0;34m[\u001b[0m\u001b[0;36m0\u001b[0m\u001b[0;34m]\u001b[0m\u001b[0;34m\u001b[0m\u001b[0;34m\u001b[0m\u001b[0m\n\u001b[0;32m-> 1726\u001b[0;31m             \u001b[0mD_chunk\u001b[0m \u001b[0;34m=\u001b[0m \u001b[0mreduce_func\u001b[0m\u001b[0;34m(\u001b[0m\u001b[0mD_chunk\u001b[0m\u001b[0;34m,\u001b[0m \u001b[0msl\u001b[0m\u001b[0;34m.\u001b[0m\u001b[0mstart\u001b[0m\u001b[0;34m)\u001b[0m\u001b[0;34m\u001b[0m\u001b[0;34m\u001b[0m\u001b[0m\n\u001b[0m\u001b[1;32m   1727\u001b[0m             \u001b[0m_check_chunk_size\u001b[0m\u001b[0;34m(\u001b[0m\u001b[0mD_chunk\u001b[0m\u001b[0;34m,\u001b[0m \u001b[0mchunk_size\u001b[0m\u001b[0;34m)\u001b[0m\u001b[0;34m\u001b[0m\u001b[0;34m\u001b[0m\u001b[0m\n\u001b[1;32m   1728\u001b[0m         \u001b[0;32myield\u001b[0m \u001b[0mD_chunk\u001b[0m\u001b[0;34m\u001b[0m\u001b[0;34m\u001b[0m\u001b[0m\n",
            "\u001b[0;32m/usr/local/lib/python3.8/dist-packages/sklearn/neighbors/_base.py\u001b[0m in \u001b[0;36m_kneighbors_reduce_func\u001b[0;34m(self, dist, start, n_neighbors, return_distance)\u001b[0m\n\u001b[1;32m    632\u001b[0m         \"\"\"\n\u001b[1;32m    633\u001b[0m         \u001b[0msample_range\u001b[0m \u001b[0;34m=\u001b[0m \u001b[0mnp\u001b[0m\u001b[0;34m.\u001b[0m\u001b[0marange\u001b[0m\u001b[0;34m(\u001b[0m\u001b[0mdist\u001b[0m\u001b[0;34m.\u001b[0m\u001b[0mshape\u001b[0m\u001b[0;34m[\u001b[0m\u001b[0;36m0\u001b[0m\u001b[0;34m]\u001b[0m\u001b[0;34m)\u001b[0m\u001b[0;34m[\u001b[0m\u001b[0;34m:\u001b[0m\u001b[0;34m,\u001b[0m \u001b[0;32mNone\u001b[0m\u001b[0;34m]\u001b[0m\u001b[0;34m\u001b[0m\u001b[0;34m\u001b[0m\u001b[0m\n\u001b[0;32m--> 634\u001b[0;31m         \u001b[0mneigh_ind\u001b[0m \u001b[0;34m=\u001b[0m \u001b[0mnp\u001b[0m\u001b[0;34m.\u001b[0m\u001b[0margpartition\u001b[0m\u001b[0;34m(\u001b[0m\u001b[0mdist\u001b[0m\u001b[0;34m,\u001b[0m \u001b[0mn_neighbors\u001b[0m \u001b[0;34m-\u001b[0m \u001b[0;36m1\u001b[0m\u001b[0;34m,\u001b[0m \u001b[0maxis\u001b[0m\u001b[0;34m=\u001b[0m\u001b[0;36m1\u001b[0m\u001b[0;34m)\u001b[0m\u001b[0;34m\u001b[0m\u001b[0;34m\u001b[0m\u001b[0m\n\u001b[0m\u001b[1;32m    635\u001b[0m         \u001b[0mneigh_ind\u001b[0m \u001b[0;34m=\u001b[0m \u001b[0mneigh_ind\u001b[0m\u001b[0;34m[\u001b[0m\u001b[0;34m:\u001b[0m\u001b[0;34m,\u001b[0m \u001b[0;34m:\u001b[0m\u001b[0mn_neighbors\u001b[0m\u001b[0;34m]\u001b[0m\u001b[0;34m\u001b[0m\u001b[0;34m\u001b[0m\u001b[0m\n\u001b[1;32m    636\u001b[0m         \u001b[0;31m# argpartition doesn't guarantee sorted order, so we sort again\u001b[0m\u001b[0;34m\u001b[0m\u001b[0;34m\u001b[0m\u001b[0;34m\u001b[0m\u001b[0m\n",
            "\u001b[0;32m<__array_function__ internals>\u001b[0m in \u001b[0;36margpartition\u001b[0;34m(*args, **kwargs)\u001b[0m\n",
            "\u001b[0;32m/usr/local/lib/python3.8/dist-packages/numpy/core/fromnumeric.py\u001b[0m in \u001b[0;36margpartition\u001b[0;34m(a, kth, axis, kind, order)\u001b[0m\n\u001b[1;32m    837\u001b[0m \u001b[0;34m\u001b[0m\u001b[0m\n\u001b[1;32m    838\u001b[0m     \"\"\"\n\u001b[0;32m--> 839\u001b[0;31m     \u001b[0;32mreturn\u001b[0m \u001b[0m_wrapfunc\u001b[0m\u001b[0;34m(\u001b[0m\u001b[0ma\u001b[0m\u001b[0;34m,\u001b[0m \u001b[0;34m'argpartition'\u001b[0m\u001b[0;34m,\u001b[0m \u001b[0mkth\u001b[0m\u001b[0;34m,\u001b[0m \u001b[0maxis\u001b[0m\u001b[0;34m=\u001b[0m\u001b[0maxis\u001b[0m\u001b[0;34m,\u001b[0m \u001b[0mkind\u001b[0m\u001b[0;34m=\u001b[0m\u001b[0mkind\u001b[0m\u001b[0;34m,\u001b[0m \u001b[0morder\u001b[0m\u001b[0;34m=\u001b[0m\u001b[0morder\u001b[0m\u001b[0;34m)\u001b[0m\u001b[0;34m\u001b[0m\u001b[0;34m\u001b[0m\u001b[0m\n\u001b[0m\u001b[1;32m    840\u001b[0m \u001b[0;34m\u001b[0m\u001b[0m\n\u001b[1;32m    841\u001b[0m \u001b[0;34m\u001b[0m\u001b[0m\n",
            "\u001b[0;32m/usr/local/lib/python3.8/dist-packages/numpy/core/fromnumeric.py\u001b[0m in \u001b[0;36m_wrapfunc\u001b[0;34m(obj, method, *args, **kwds)\u001b[0m\n\u001b[1;32m     55\u001b[0m \u001b[0;34m\u001b[0m\u001b[0m\n\u001b[1;32m     56\u001b[0m     \u001b[0;32mtry\u001b[0m\u001b[0;34m:\u001b[0m\u001b[0;34m\u001b[0m\u001b[0;34m\u001b[0m\u001b[0m\n\u001b[0;32m---> 57\u001b[0;31m         \u001b[0;32mreturn\u001b[0m \u001b[0mbound\u001b[0m\u001b[0;34m(\u001b[0m\u001b[0;34m*\u001b[0m\u001b[0margs\u001b[0m\u001b[0;34m,\u001b[0m \u001b[0;34m**\u001b[0m\u001b[0mkwds\u001b[0m\u001b[0;34m)\u001b[0m\u001b[0;34m\u001b[0m\u001b[0;34m\u001b[0m\u001b[0m\n\u001b[0m\u001b[1;32m     58\u001b[0m     \u001b[0;32mexcept\u001b[0m \u001b[0mTypeError\u001b[0m\u001b[0;34m:\u001b[0m\u001b[0;34m\u001b[0m\u001b[0;34m\u001b[0m\u001b[0m\n\u001b[1;32m     59\u001b[0m         \u001b[0;31m# A TypeError occurs if the object does have such a method in its\u001b[0m\u001b[0;34m\u001b[0m\u001b[0;34m\u001b[0m\u001b[0;34m\u001b[0m\u001b[0m\n",
            "\u001b[0;31mKeyboardInterrupt\u001b[0m: "
          ]
        }
      ]
    },
    {
      "cell_type": "code",
      "source": [
        "# Use the classification_report() function to calculate the evaluation metrics for each class\n",
        "kNeighborsCR = classification_report(y_test, kNeighborsPredictions)\n",
        "\n",
        "# Print the classification_report\n",
        "print(kNeighborsCR)\n",
        "\n",
        "# Use the confusion_matrix() function to calculate the confusion matrix\n",
        "kNeighborsCM = confusion_matrix(y_test, kNeighborsPredictions)\n",
        "\n",
        "# Print the confusion_matrix\n",
        "print(kNeighborsCM)\n",
        "\n",
        "# Use the accuracy_score() function to calculate the accuracy_score\n",
        "kNeighborsAccuracy = accuracy_score(y_test, kNeighborsPredictions)\n",
        "# Print the confusion_matrix\n",
        "print(kNeighborsAccuracy)\n"
      ],
      "metadata": {
        "id": "p8ix7IDWrXUR"
      },
      "execution_count": null,
      "outputs": []
    },
    {
      "cell_type": "code",
      "source": [
        "# GaussianNB --> keep\n",
        "\n",
        "# Import the GridSearchCV class from the sklearn.model_selection module\n",
        "from sklearn.model_selection import GridSearchCV\n",
        "\n",
        "y_train_dense = y_train.values.toarray()\n",
        "X_train_dense = X_train.values.toarray()\n",
        "\n",
        "\n",
        "# Import the GaussianNB class from the sklearn.naive_bayes module\n",
        "from sklearn.naive_bayes import GaussianNB\n",
        "\n",
        "# Create a list of possible values for the hyperparameters\n",
        "param_grid = {\n",
        "    'var_smoothing': [1e-9, 1e-8, 1e-7, 1e-6]\n",
        "}\n",
        "\n",
        "# Create a Naive Bayes model\n",
        "naiveBayesModel = GaussianNB()\n",
        "\n",
        "# Use the GridSearchCV class to perform a grid search\n",
        "grid_search = GridSearchCV(naiveBayesModel, param_grid, cv=5, scoring='accuracy') \n",
        "grid_search.fit(X_train, y_train)\n",
        "\n",
        "# Print the best hyperparameters found by the grid search\n",
        "print(grid_search.best_params_)\n",
        "\n",
        "# Use the best hyperparameters to make predictions on the test set\n",
        "naiveBayesPredictions = grid_search.predict(X_test)"
      ],
      "metadata": {
        "id": "FS-kP8AqP9jD"
      },
      "execution_count": null,
      "outputs": []
    },
    {
      "cell_type": "code",
      "source": [
        "# Use the classification_report() function to calculate the evaluation metrics for each class\n",
        "naiveBayesCR = classification_report(y_test, naiveBayesPredictions)\n",
        "\n",
        "# Print the classification_report\n",
        "print(naiveBayesCR)\n",
        "\n",
        "# Use the confusion_matrix() function to calculate the confusion matrix\n",
        "naiveBayesCM = confusion_matrix(y_test, naiveBayesPredictions)\n",
        "\n",
        "# Print the confusion_matrix\n",
        "print(naiveBayesCM)\n",
        "\n",
        "# Use the accuracy_score() function to calculate the accuracy_score\n",
        "naiveBayesAccuracy = accuracy_score(y_test, naiveBayesPredictions)\n",
        "# Print the confusion_matrix\n",
        "print(naiveBayesAccuracy)\n"
      ],
      "metadata": {
        "id": "ET7HDAZFzJ9n"
      },
      "execution_count": null,
      "outputs": []
    },
    {
      "cell_type": "code",
      "source": [
        "# MLPClassifier --> keep\n",
        "\n",
        "# Import the MLPClassifier class from the sklearn.neural_network module\n",
        "from sklearn.neural_network import MLPClassifier\n",
        "\n",
        "# Create a list of possible values for the hyperparameters\n",
        "param_grid = {\n",
        "    'hidden_layer_sizes': [(10,), (50,), (100,)],\n",
        "    'alpha': [0.0001, 0.001, 0.01],\n",
        "}\n",
        "\n",
        "# Create a Multi-Layer Perceptron model\n",
        "mlpClassifierModel = MLPClassifier()\n",
        "\n",
        "# Use the GridSearchCV class to perform a grid search\n",
        "grid_search = GridSearchCV(mlpClassifierModel, param_grid, cv=5, scoring='accuracy')\n",
        "grid_search.fit(X_train, y_train)\n",
        "\n",
        "# Print the best hyperparameters found by the grid search\n",
        "print(grid_search.best_params_)\n",
        "\n",
        "## Apply best model to the test data and output accuracy\n",
        "\n",
        "# Import the confusion_matrix function from the sklearn.metrics module\n",
        "from sklearn.metrics import classification_report, confusion_matrix\n",
        "\n",
        "# Use the predict() method to generate predictions for the test data\n",
        "mlpClassifierPredictions = grid_search.predict(X_test)\n"
      ],
      "metadata": {
        "colab": {
          "base_uri": "https://localhost:8080/"
        },
        "id": "k1j6pCagRBZc",
        "outputId": "80bb61b9-3dc7-4b34-e497-747d11b34bdc"
      },
      "execution_count": null,
      "outputs": [
        {
          "output_type": "stream",
          "name": "stderr",
          "text": [
            "/usr/local/lib/python3.8/dist-packages/sklearn/neural_network/_multilayer_perceptron.py:692: ConvergenceWarning: Stochastic Optimizer: Maximum iterations (200) reached and the optimization hasn't converged yet.\n",
            "  warnings.warn(\n",
            "/usr/local/lib/python3.8/dist-packages/sklearn/neural_network/_multilayer_perceptron.py:692: ConvergenceWarning: Stochastic Optimizer: Maximum iterations (200) reached and the optimization hasn't converged yet.\n",
            "  warnings.warn(\n",
            "/usr/local/lib/python3.8/dist-packages/sklearn/neural_network/_multilayer_perceptron.py:692: ConvergenceWarning: Stochastic Optimizer: Maximum iterations (200) reached and the optimization hasn't converged yet.\n",
            "  warnings.warn(\n",
            "/usr/local/lib/python3.8/dist-packages/sklearn/neural_network/_multilayer_perceptron.py:692: ConvergenceWarning: Stochastic Optimizer: Maximum iterations (200) reached and the optimization hasn't converged yet.\n",
            "  warnings.warn(\n",
            "/usr/local/lib/python3.8/dist-packages/sklearn/neural_network/_multilayer_perceptron.py:692: ConvergenceWarning: Stochastic Optimizer: Maximum iterations (200) reached and the optimization hasn't converged yet.\n",
            "  warnings.warn(\n",
            "/usr/local/lib/python3.8/dist-packages/sklearn/neural_network/_multilayer_perceptron.py:692: ConvergenceWarning: Stochastic Optimizer: Maximum iterations (200) reached and the optimization hasn't converged yet.\n",
            "  warnings.warn(\n",
            "/usr/local/lib/python3.8/dist-packages/sklearn/neural_network/_multilayer_perceptron.py:692: ConvergenceWarning: Stochastic Optimizer: Maximum iterations (200) reached and the optimization hasn't converged yet.\n",
            "  warnings.warn(\n",
            "/usr/local/lib/python3.8/dist-packages/sklearn/neural_network/_multilayer_perceptron.py:692: ConvergenceWarning: Stochastic Optimizer: Maximum iterations (200) reached and the optimization hasn't converged yet.\n",
            "  warnings.warn(\n",
            "/usr/local/lib/python3.8/dist-packages/sklearn/neural_network/_multilayer_perceptron.py:692: ConvergenceWarning: Stochastic Optimizer: Maximum iterations (200) reached and the optimization hasn't converged yet.\n",
            "  warnings.warn(\n",
            "/usr/local/lib/python3.8/dist-packages/sklearn/neural_network/_multilayer_perceptron.py:692: ConvergenceWarning: Stochastic Optimizer: Maximum iterations (200) reached and the optimization hasn't converged yet.\n",
            "  warnings.warn(\n",
            "/usr/local/lib/python3.8/dist-packages/sklearn/neural_network/_multilayer_perceptron.py:692: ConvergenceWarning: Stochastic Optimizer: Maximum iterations (200) reached and the optimization hasn't converged yet.\n",
            "  warnings.warn(\n"
          ]
        }
      ]
    },
    {
      "cell_type": "code",
      "source": [
        "\n",
        "# Use the classification_report() function to calculate the evaluation metrics for each class\n",
        "mlpClassifierCR = classification_report(y_test, mlpClassifierPredictions)\n",
        "\n",
        "# Print the classification_report\n",
        "print(mlpClassifierCR)\n",
        "\n",
        "# Use the confusion_matrix() function to calculate the confusion matrix\n",
        "mlpClassifierCM = confusion_matrix(y_test, mlpClassifierPredictions)\n",
        "\n",
        "# Print the confusion_matrix\n",
        "print(mlpClassifierCM)\n"
      ],
      "metadata": {
        "id": "bpkNbDMG1NH3"
      },
      "execution_count": null,
      "outputs": []
    },
    {
      "cell_type": "markdown",
      "source": [
        "Step 6 - Visualize"
      ],
      "metadata": {
        "id": "xoT4CkS3MM-r"
      }
    },
    {
      "cell_type": "code",
      "source": [
        "# visualize the gender \n",
        "import matplotlib.pyplot as plt\n",
        "\n",
        "# before cleaning\n",
        "non_cleaned_counts = df['Gender'].value_counts()\n",
        "\n",
        "non_cleaned_counts.plot(kind=\"bar\", color=\"skyblue\")\n",
        "\n",
        "# get the x and y axes of the chart\n",
        "ax = plt.gca()\n",
        "x_axis = ax.get_xaxis()\n",
        "y_axis = ax.get_yaxis()\n",
        "\n",
        "# get the bars from the chart\n",
        "bars = ax.patches\n",
        "\n",
        "# iterate over the bars and add the counts on top of the bars\n",
        "for bar in bars:\n",
        "    height = bar.get_height()\n",
        "    x_pos = bar.get_x()\n",
        "    y_pos = bar.get_y()\n",
        "    ax.text(x_pos, y_pos + height, height, ha=\"center\", va=\"bottom\")\n",
        "\n",
        "# adjust the size of the plot\n",
        "plt.gcf().set_size_inches(10, 5)\n",
        "\n",
        "# set the title and labels for the axes\n",
        "plt.title(\"Value Counts for 'cleaned_gender'\")\n",
        "plt.xlabel(\"Value\")\n",
        "plt.ylabel(\"Count\")\n",
        "\n",
        "# save the plot\n",
        "plt.savefig(\"counts_plot.png\")\n",
        "\n"
      ],
      "metadata": {
        "id": "vqMvQCK5gGFf"
      },
      "execution_count": null,
      "outputs": []
    },
    {
      "cell_type": "markdown",
      "source": [
        "Extra Algorithms"
      ],
      "metadata": {
        "id": "JQWA4krGQ_jB"
      }
    },
    {
      "cell_type": "code",
      "source": [
        "#XGBClassifier\n",
        "\n",
        "# Import the XGBClassifier class from the xgboost package\n",
        "from xgboost import XGBClassifier\n",
        "\n",
        "# Create a list of possible values for the hyperparameters\n",
        "param_grid = {\n",
        "    'n_estimators': [50, 100, 150],\n",
        "    'learning_rate': [0.01, 0.1, 1],\n",
        "    'max_depth': [3, 5, 7]\n",
        "}\n",
        "\n",
        "# Create an XGBoost model\n",
        "model = XGBClassifier()\n",
        "\n",
        "# Use the GridSearchCV class to perform a grid search\n",
        "grid_search = GridSearchCV(model, param_grid, cv=5, scoring='accuracy')\n",
        "grid_search.fit(X_train, y_train)\n",
        "\n",
        "# Print the best hyperparameters found by the grid search\n",
        "print(grid_search.best_params_)\n",
        "\n",
        "# Use the best hyperparameters to make predictions on the test set\n",
        "predictions = grid_search.predict(X_test)"
      ],
      "metadata": {
        "id": "zLOFJcaESL_l"
      },
      "execution_count": null,
      "outputs": []
    },
    {
      "cell_type": "code",
      "source": [
        "# QuadraticDiscriminantAnalysis\n",
        "\n",
        "# Import the QuadraticDiscriminantAnalysis class from the sklearn.discriminant_analysis module\n",
        "from sklearn.discriminant_analysis import QuadraticDiscriminantAnalysis\n",
        "\n",
        "# Create a list of possible values for the hyperparameters\n",
        "param_grid = {\n",
        "    'reg_param': [0, 0.1, 1],\n",
        "    'tol': [1e-3, 1e-4, 1e-5]\n",
        "}\n",
        "\n",
        "# Create a Quadratic Discriminant Analysis model\n",
        "model = QuadraticDiscriminantAnalysis()\n",
        "\n",
        "# Use the GridSearchCV class to perform a grid search\n",
        "grid_search = GridSearchCV(model, param_grid, cv=5, scoring='accuracy')\n",
        "grid_search.fit(X_train, y_train)\n",
        "\n",
        "# Print the best hyperparameters found by the grid search\n",
        "print(grid_search.best_params_)"
      ],
      "metadata": {
        "collapsed": true,
        "id": "IjVErTl1R76L"
      },
      "execution_count": null,
      "outputs": []
    },
    {
      "cell_type": "code",
      "source": [
        "# AdaBoostClassifier --> remove\n",
        "\n",
        "# Import the AdaBoostClassifier class from the sklearn.ensemble module\n",
        "from sklearn.ensemble import AdaBoostClassifier\n",
        "\n",
        "# Create a list of possible values for the hyperparameters\n",
        "param_grid = {\n",
        "    'n_estimators': [50, 100, 150],\n",
        "    'learning_rate': [0.01, 0.1, 1],\n",
        "    'algorithm': ['SAMME', 'SAMME.R']\n",
        "}\n",
        "\n",
        "# Create an AdaBoost model\n",
        "model = AdaBoostClassifier()\n",
        "\n",
        "# Use the GridSearchCV class to perform a grid search\n",
        "grid_search = GridSearchCV(model, param_grid, cv=5, scoring='accuracy')\n",
        "grid_search.fit(X_train, y_train)\n",
        "\n",
        "# Print the best hyperparameters found by the grid search\n",
        "print(grid_search.best_params_)\n"
      ],
      "metadata": {
        "id": "LdRixuJTRVut"
      },
      "execution_count": null,
      "outputs": []
    },
    {
      "cell_type": "code",
      "source": [
        "# GradientBoostingClassifier --> remove\n",
        "\n",
        "# Import the GradientBoostingClassifier class from the sklearn.ensemble module\n",
        "from sklearn.ensemble import GradientBoostingClassifier\n",
        "\n",
        "# Create a list of possible values for the hyperparameters\n",
        "param_grid = {\n",
        "    'n_estimators': [50, 100, 150],\n",
        "    'learning_rate': [0.01, 0.1, 1],\n",
        "    'max_depth': [3, 5, 7]\n",
        "}\n",
        "\n",
        "# Create a Gradient Boosting model\n",
        "model = GradientBoostingClassifier()\n",
        "\n",
        "# Use the GridSearchCV class to perform a grid search\n",
        "grid_search = GridSearchCV(model, param_grid, cv=5, scoring='accuracy')\n",
        "grid_search.fit(X_train, y_train)\n",
        "\n",
        "# Print the best hyperparameters found by the grid search\n",
        "print(grid_search.best_params_)\n"
      ],
      "metadata": {
        "id": "tk5IR3swRwfG"
      },
      "execution_count": null,
      "outputs": []
    },
    {
      "cell_type": "code",
      "source": [
        "# Support Vector Machine --> remove\n",
        "\n",
        "# Import the SVC class from the sklearn.svm module\n",
        "from sklearn.svm import SVC\n",
        "\n",
        "# Create a list of possible values for the hyperparameters\n",
        "param_grid = {\n",
        "    'kernel': ['linear', 'rbf', 'poly', 'sigmoid'],\n",
        "    'C': [0.1, 1, 10, 100],\n",
        "    'gamma': [0.01, 0.1, 1, 10]\n",
        "}\n",
        "\n",
        "# Create a SVM model\n",
        "svcModel = SVC()\n",
        "\n",
        "# Use the GridSearchCV class to perform a grid search\n",
        "grid_search = GridSearchCV(svcModel, param_grid, cv=5, scoring='accuracy')\n",
        "grid_search.fit(X_train, y_train)\n",
        "\n",
        "# Print the best hyperparameters found by the grid search\n",
        "print(grid_search.best_params_)"
      ],
      "metadata": {
        "id": "GHU8L5oaOJqk"
      },
      "execution_count": null,
      "outputs": []
    }
  ]
}